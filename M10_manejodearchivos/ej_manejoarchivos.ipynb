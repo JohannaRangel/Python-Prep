{
 "cells": [
  {
   "cell_type": "code",
   "execution_count": 2,
   "metadata": {},
   "outputs": [
    {
     "name": "stdout",
     "output_type": "stream",
     "text": [
      "Buenos días --ip=127.0.0.1\n"
     ]
    }
   ],
   "source": [
    "import sys\n",
    "\n",
    "\n",
    "print(f\"Buenos días {sys.argv[1]}\")\n"
   ]
  },
  {
   "cell_type": "code",
   "execution_count": 3,
   "metadata": {},
   "outputs": [],
   "source": [
    "import os\n",
    "\n",
    "\n",
    "ingredientes = [\"Cebolla\",\"Tomate\", \"Aceite\"]"
   ]
  },
  {
   "cell_type": "code",
   "execution_count": 4,
   "metadata": {},
   "outputs": [],
   "source": [
    "archivo = open('datos.txt','w')\n",
    "\n",
    "\n",
    "for elemento in ingredientes:\n",
    "    archivo.write(elemento+'\\n') #n es el comienzo de una nueva linea\n",
    "\n",
    "\n",
    "archivo.close()"
   ]
  },
  {
   "cell_type": "code",
   "execution_count": 5,
   "metadata": {},
   "outputs": [
    {
     "name": "stdout",
     "output_type": "stream",
     "text": [
      "Cebolla\n",
      "\n",
      "Tomate\n",
      "\n",
      "Aceite\n",
      "\n"
     ]
    }
   ],
   "source": [
    "import os\n",
    "\n",
    "\n",
    "archivo = open('datos.txt','r')\n",
    "\n",
    "\n",
    "for linea in archivo:\n",
    "    print(linea)\n",
    "\n",
    "\n",
    "archivo.close()\n"
   ]
  },
  {
   "cell_type": "markdown",
   "metadata": {},
   "source": [
    "Web Scraping"
   ]
  },
  {
   "cell_type": "code",
   "execution_count": 7,
   "metadata": {},
   "outputs": [],
   "source": [
    "from bs4 import BeautifulSoup\n",
    "import urllib.request #Es un módulo Python para acceder y utilizar recursos de internet identificados por URLs (Uniform Resource Locators).  "
   ]
  },
  {
   "cell_type": "code",
   "execution_count": 8,
   "metadata": {},
   "outputs": [],
   "source": [
    "#acá nos estamos descargando el archivo html de la web\n",
    "response = urllib.request.urlopen('https://es.wikipedia.org/wiki/Python')\n",
    "html = response.read()"
   ]
  },
  {
   "cell_type": "code",
   "execution_count": 9,
   "metadata": {},
   "outputs": [],
   "source": [
    "#instanciamos el objeto BeautifulSoup\n",
    "soup = BeautifulSoup(html, 'html.parser') #Analizador simple de HTML y XHTML\n",
    "text = soup.get_text() #almacenamos todo el texto de la web sin las etiquetas (extraemos el texto)\n",
    "\n"
   ]
  },
  {
   "cell_type": "code",
   "execution_count": null,
   "metadata": {},
   "outputs": [],
   "source": [
    "#extraemos links de la web\n",
    "links = soup.find_all('a')"
   ]
  }
 ],
 "metadata": {
  "kernelspec": {
   "display_name": "base",
   "language": "python",
   "name": "python3"
  },
  "language_info": {
   "codemirror_mode": {
    "name": "ipython",
    "version": 3
   },
   "file_extension": ".py",
   "mimetype": "text/x-python",
   "name": "python",
   "nbconvert_exporter": "python",
   "pygments_lexer": "ipython3",
   "version": "3.10.9"
  },
  "orig_nbformat": 4
 },
 "nbformat": 4,
 "nbformat_minor": 2
}
