{
 "cells": [
  {
   "cell_type": "markdown",
   "metadata": {},
   "source": [
    "ITERADORES E ITERABLES \n",
    "\n",
    "Iterar: Significa repetir una acción o conjunto de acciones en el bucle hasta que se cumpla una condición determinada\n",
    "\n",
    "Los iterables, sin duda son una herramienta muy potente de Python que nos permite como su nombre indica, iterar colecciones que sean iterables. "
   ]
  },
  {
   "cell_type": "code",
   "execution_count": 1,
   "metadata": {},
   "outputs": [
    {
     "name": "stdout",
     "output_type": "stream",
     "text": [
      "5\n",
      "4\n",
      "9\n",
      "2\n"
     ]
    }
   ],
   "source": [
    "lista = [5, 4, 9, 2]\n",
    "i = 0 #i es una variable que se utiliza como iterador. En este caso, se inicializará en cero y en el bucle while ha de ser menor a la longitud de la lista. \n",
    "#El bucle se ejecutará exactamente el numero de veces necesario para procesar todos los elementosde la lista\n",
    "\n",
    "while i < len(lista):  \n",
    "    elemento = lista[i]\n",
    "    print(elemento)\n",
    "    i += 1"
   ]
  },
  {
   "cell_type": "code",
   "execution_count": 2,
   "metadata": {},
   "outputs": [
    {
     "name": "stdout",
     "output_type": "stream",
     "text": [
      "5\n",
      "4\n",
      "9\n",
      "2\n"
     ]
    }
   ],
   "source": [
    "#el código con el bucle for es más ideomático, es decir; es más fácil de leer y mantener\n",
    "#el bucle FOR se utiliza para iterar sobre una serie de valores (lista/tupla/diccionario/string/archivo/otros) \n",
    "#en cada iteración, el bucle for asigna el siguiente valor de la secuencia a juna variable de control de bucle y ejecuta \n",
    "#el bloque de código correspondiente\n",
    "\n",
    "lista = [5, 4, 9, 2]\n",
    "\n",
    "for elemento in lista: #en el bucle for no se va necesitar una variable de control, en su lugar el valor a iterar se le asignará a la variable elemento\n",
    "    print(elemento)"
   ]
  },
  {
   "cell_type": "code",
   "execution_count": 3,
   "metadata": {},
   "outputs": [
    {
     "name": "stdout",
     "output_type": "stream",
     "text": [
      "H\n",
      "e\n",
      "n\n",
      "r\n",
      "y\n"
     ]
    }
   ],
   "source": [
    "#se devuelve cada letra presente a la cadena\n",
    "cadena = \"Henry\"\n",
    "for c in cadena:\n",
    "    print(c)"
   ]
  },
  {
   "cell_type": "markdown",
   "metadata": {},
   "source": [
    "ENUMERATE  \n",
    "°Toma una colección (por ejemplo, una tupla) y la devuelve como un objeto de enumeración. Nos permite iterar colecciones, recorriendo todos los elementos de la misma.\n",
    "°Agrega un índice a cada elemento de una secuencia. Agrega un contador como clave del objeto\n",
    "°Su uso no se limita únicamente a bucles for\n",
    "\n",
    "\n",
    "enumerate(iterable, start)\n",
    "iterable:An iterable object\n",
    "start: A Number. Defining the start number of the enumerate object. Default 0"
   ]
  },
  {
   "cell_type": "code",
   "execution_count": 4,
   "metadata": {},
   "outputs": [
    {
     "name": "stdout",
     "output_type": "stream",
     "text": [
      "(0, 'H')\n",
      "(1, 'e')\n",
      "(2, 'n')\n",
      "(3, 'r')\n",
      "(4, 'y')\n"
     ]
    }
   ],
   "source": [
    "#en este caso usamos enumerate para agregar su índice a cada uno de los caracteres de la cadena\n",
    "#obtener el índice en el que se está posicionado. Se imprime una tupla que contiene el índice y el valor correspondiente \n",
    "\n",
    "cadena = \"Henry\"\n",
    "for c in enumerate(cadena):\n",
    "    print(c)"
   ]
  },
  {
   "cell_type": "code",
   "execution_count": 32,
   "metadata": {},
   "outputs": [
    {
     "name": "stdout",
     "output_type": "stream",
     "text": [
      "0 A\n",
      "1 B\n",
      "2 C\n"
     ]
    },
    {
     "data": {
      "text/plain": [
       "' \\nlista = [\"A\", \"B\", \"C\"]\\n\\nindice = 0\\nfor l in lista:\\n    print(indice, l)\\n    indice += 1 '"
      ]
     },
     "execution_count": 32,
     "metadata": {},
     "output_type": "execute_result"
    }
   ],
   "source": [
    "#existen situaciones en las que no solo queremos acceder al elemento i-ésimo de la colección, \n",
    "#sino que además queremos el índice. Una forma de hacerlo sería la siguiente.\n",
    "lista = [\"A\", \"B\", \"C\"]\n",
    "\n",
    "for indice, l in enumerate(lista):\n",
    "    print(indice, l)\n",
    "\n",
    "\n",
    "\"\"\" \n",
    "Esta forma es igual de válida pero la función enumerate nos permite un resultado mucho más limpio y claro.\n",
    "lista = [\"A\", \"B\", \"C\"]\n",
    "\n",
    "indice = 0\n",
    "for l in lista:\n",
    "    print(indice, l)\n",
    "    indice += 1 \"\"\""
   ]
  },
  {
   "cell_type": "code",
   "execution_count": 33,
   "metadata": {},
   "outputs": [
    {
     "name": "stdout",
     "output_type": "stream",
     "text": [
      "[(0, 'A'), (1, 'B'), (2, 'C')]\n"
     ]
    }
   ],
   "source": [
    "#Podemos convertir el tipo enumerate en una lista de tuplas, \n",
    "#donde cada una contiene un elemento de la colección inicial y el índice asociado.\n",
    "\n",
    "lista = [\"A\", \"B\", \"C\"]\n",
    "\n",
    "en = list(enumerate(lista))\n",
    "print(en)"
   ]
  },
  {
   "cell_type": "code",
   "execution_count": 34,
   "metadata": {},
   "outputs": [],
   "source": [
    "#vamos a importar la clase \"Iterable\" desde el módulo \"collections.abc\" de la biblioteca estandar de python\n",
    "#el objetivo es utilizar el método \"isinstance\" para ver si el objeto es o no iterable\n",
    "#el método isinstance retorna un valor booleano\n",
    "\n",
    "from collections.abc import Iterable\n",
    "cadena = \"Henry\"\n",
    "numero = 9"
   ]
  },
  {
   "cell_type": "code",
   "execution_count": 35,
   "metadata": {},
   "outputs": [
    {
     "data": {
      "text/plain": [
       "True"
      ]
     },
     "execution_count": 35,
     "metadata": {},
     "output_type": "execute_result"
    }
   ],
   "source": [
    "isinstance(cadena,Iterable) #la cadena si es un iterable, el resultado es verdadero"
   ]
  },
  {
   "cell_type": "code",
   "execution_count": 36,
   "metadata": {},
   "outputs": [
    {
     "data": {
      "text/plain": [
       "False"
      ]
     },
     "execution_count": 36,
     "metadata": {},
     "output_type": "execute_result"
    }
   ],
   "source": [
    "isinstance(numero,Iterable)"
   ]
  },
  {
   "cell_type": "code",
   "execution_count": 8,
   "metadata": {},
   "outputs": [
    {
     "name": "stdout",
     "output_type": "stream",
     "text": [
      "['H', 'e', 'n', 'r', 'y']\n"
     ]
    }
   ],
   "source": [
    "#list: convierte a lista una clase iterable\n",
    "\n",
    "#transformemos un string en una lista. cada letra de la cadena se ha transformado en un elemento de una lista\n",
    "print(list(\"Henry\"))"
   ]
  },
  {
   "cell_type": "code",
   "execution_count": 9,
   "metadata": {},
   "outputs": [
    {
     "name": "stdout",
     "output_type": "stream",
     "text": [
      "6\n"
     ]
    }
   ],
   "source": [
    "#sum para sumar. es una función integrada que toma un iterable (en este caso tomaremos una lista como argumento)\n",
    "#y nos va devolver la suma de todos los elementos del iterable\n",
    "\n",
    "print(sum([1,2,3]))"
   ]
  },
  {
   "cell_type": "code",
   "execution_count": 11,
   "metadata": {},
   "outputs": [
    {
     "name": "stdout",
     "output_type": "stream",
     "text": [
      "H-e-n-r-y\n"
     ]
    }
   ],
   "source": [
    "#join es un metodo de cadena en python que toma una secuencia (cadena/lista/tupla) y\n",
    "#devuelve una cadena que contiene los elementos de la secuencia concatenados con un separador específico \n",
    "#permite unir cada elemento de una clase iterable con el primer argumento usado\n",
    "\n",
    "print(\"-\".join(\"Henry\"))"
   ]
  },
  {
   "cell_type": "code",
   "execution_count": 12,
   "metadata": {},
   "outputs": [
    {
     "name": "stdout",
     "output_type": "stream",
     "text": [
      "a\n",
      "b\n",
      "c\n"
     ]
    }
   ],
   "source": [
    "#el iterador de un diccionario devuelve las claves o keys del mismo\n",
    "\n",
    "mi_dict = {'a':1, 'b':2, 'c':3}\n",
    "for i in mi_dict:\n",
    "    print(i)"
   ]
  },
  {
   "cell_type": "code",
   "execution_count": null,
   "metadata": {},
   "outputs": [],
   "source": [
    "#ITERADOR\n",
    "#permite recorrer una colección de elementos uno por uno de manera eficiente sin tener que cargar todos los elementos en la memoria al mismo tiempo "
   ]
  },
  {
   "cell_type": "code",
   "execution_count": 13,
   "metadata": {},
   "outputs": [],
   "source": [
    "#iter para obtener el iterador \n",
    "#IMPORTANTE llamar la función NEXT al menos una vez después de crear el iterador con ITER para apuntar al primer elemento de la colección\n",
    "#antes de acceder a cualquier otro elemento\n",
    "\n",
    "libro = ['página1', 'página2', 'página3', 'página4']\n",
    "marcapaginas = iter(libro)"
   ]
  },
  {
   "cell_type": "code",
   "execution_count": 14,
   "metadata": {},
   "outputs": [
    {
     "data": {
      "text/plain": [
       "list_iterator"
      ]
     },
     "execution_count": 14,
     "metadata": {},
     "output_type": "execute_result"
    }
   ],
   "source": [
    "type(marcapaginas)"
   ]
  },
  {
   "cell_type": "code",
   "execution_count": 15,
   "metadata": {},
   "outputs": [
    {
     "name": "stdout",
     "output_type": "stream",
     "text": [
      "página1\n"
     ]
    }
   ],
   "source": [
    "#next. se utiliza para obtener el siguiente elemento de un objeto iterable\n",
    "# cada vez que se llama esta funcion devuelve el siguiente elemento de la secuencia de elementos del objeto iterable\n",
    "#el iterador solo puede ir hacia adelante, no es posible retroceder\n",
    "print(next(marcapaginas))"
   ]
  },
  {
   "cell_type": "code",
   "execution_count": 16,
   "metadata": {},
   "outputs": [
    {
     "name": "stdout",
     "output_type": "stream",
     "text": [
      "página2\n"
     ]
    }
   ],
   "source": [
    "print(next(marcapaginas))"
   ]
  },
  {
   "cell_type": "code",
   "execution_count": 17,
   "metadata": {},
   "outputs": [
    {
     "name": "stdout",
     "output_type": "stream",
     "text": [
      "página3\n"
     ]
    }
   ],
   "source": [
    "print(next(marcapaginas))"
   ]
  },
  {
   "cell_type": "code",
   "execution_count": 18,
   "metadata": {},
   "outputs": [
    {
     "name": "stdout",
     "output_type": "stream",
     "text": [
      "página4\n"
     ]
    }
   ],
   "source": [
    "print(next(marcapaginas))"
   ]
  },
  {
   "cell_type": "code",
   "execution_count": 19,
   "metadata": {},
   "outputs": [
    {
     "ename": "StopIteration",
     "evalue": "",
     "output_type": "error",
     "traceback": [
      "\u001b[1;31m---------------------------------------------------------------------------\u001b[0m",
      "\u001b[1;31mStopIteration\u001b[0m                             Traceback (most recent call last)",
      "Cell \u001b[1;32mIn[19], line 1\u001b[0m\n\u001b[1;32m----> 1\u001b[0m \u001b[39mprint\u001b[39m(\u001b[39mnext\u001b[39;49m(marcapaginas))\n",
      "\u001b[1;31mStopIteration\u001b[0m: "
     ]
    }
   ],
   "source": [
    "#las excepciones se utilizan para manejar errores o situaciones excepcionales durante la ejecución del programa\n",
    "#la excepcion STOPITERATION se lanza cuando se llega al final de la iteración \n",
    "print(next(marcapaginas))"
   ]
  },
  {
   "cell_type": "markdown",
   "metadata": {},
   "source": [
    "ZIP\n",
    "°Función que toma dos o más secuencias y las combina en una secuencia de tuplas\n",
    "°Devuelve un objeto de tipo zip, que es un iterador de tuplas donde el primer elemento de cada iterador pasado se empareja, y luego el segundo elemento de cada iterador pasado se empareja, etc.\n",
    "°Herramienta util para combinar datos de múltiples fuentes, como también columnas de una tabla o datos de diferentes archivos\n",
    "°Es posible utilizar zip con mas de dos iterables a la vez. \n",
    "°La secuencia resultante va contener tantos elementos como la secuencia más corta proporcionada, es decir; si los iterables pasados tienen diferentes longitudes, el iterable con menos elementos decide la longitud del nuevo iterador.\n",
    "\n",
    "\n",
    "zip(iterator1, iterator2, iterator3 ...)\n",
    "iterable1, iterable2, iterable3 ...\tIterable objects that will be joined together"
   ]
  },
  {
   "cell_type": "code",
   "execution_count": 29,
   "metadata": {},
   "outputs": [],
   "source": [
    "lista_1 = [1, 2, 3]\n",
    "lista_2 = ['a', 'b', 'c']\n",
    "\n",
    "combinacion = zip(lista_1, lista_2) #lo que se guarda en la variable combinacion pasa a ser una estructura de combinacion"
   ]
  },
  {
   "cell_type": "code",
   "execution_count": 30,
   "metadata": {},
   "outputs": [
    {
     "name": "stdout",
     "output_type": "stream",
     "text": [
      "<class 'zip'>\n"
     ]
    }
   ],
   "source": [
    "print(type(combinacion))"
   ]
  },
  {
   "cell_type": "code",
   "execution_count": 22,
   "metadata": {},
   "outputs": [
    {
     "name": "stdout",
     "output_type": "stream",
     "text": [
      "(1, 'a')\n",
      "(2, 'b')\n",
      "(3, 'c')\n"
     ]
    }
   ],
   "source": [
    "for elemento in combinacion:\n",
    "    print(elemento)"
   ]
  },
  {
   "cell_type": "code",
   "execution_count": 1,
   "metadata": {},
   "outputs": [
    {
     "name": "stdout",
     "output_type": "stream",
     "text": [
      "[(1, 'Uno'), (2, 'Dos')]\n"
     ]
    }
   ],
   "source": [
    "a = [1, 2]\n",
    "b = [\"Uno\", \"Dos\"]\n",
    "c = zip(a, b)\n",
    "\n",
    "print(list(c))\n",
    "# [(1, 'Uno'), (2, 'Dos')]"
   ]
  },
  {
   "cell_type": "code",
   "execution_count": 2,
   "metadata": {},
   "outputs": [
    {
     "name": "stdout",
     "output_type": "stream",
     "text": [
      "Número 1 Letra Uno\n",
      "Número 2 Letra Dos\n"
     ]
    }
   ],
   "source": [
    "#ZIP es realmente útil combinada con un for para iterar dos listas en paralelo.\n",
    "\n",
    "a = [1, 2]\n",
    "b = [\"Uno\", \"Dos\"]\n",
    "c = zip(a, b)\n",
    "\n",
    "for numero, texto in zip(a, b):\n",
    "    print(\"Número\", numero, \"Letra\", texto)\n",
    "    "
   ]
  },
  {
   "cell_type": "code",
   "execution_count": 3,
   "metadata": {},
   "outputs": [
    {
     "name": "stdout",
     "output_type": "stream",
     "text": [
      "1 Uno One Un\n",
      "2 Dos Two Deux\n"
     ]
    }
   ],
   "source": [
    "#zip() con n argumentos\n",
    "#es posible pasar un número arbitrario de iterables como entrada.\"las listas tienen la misma longitud\"\n",
    "\n",
    "numeros = [1, 2]\n",
    "espanol = [\"Uno\", \"Dos\"]\n",
    "ingles = [\"One\", \"Two\"]\n",
    "frances = [\"Un\", \"Deux\"]\n",
    "c = zip(numeros, espanol, ingles, frances)\n",
    "\n",
    "for n, e, i, f in zip(numeros, espanol, ingles, frances):\n",
    "    print(n, e, i, f)"
   ]
  },
  {
   "cell_type": "code",
   "execution_count": 4,
   "metadata": {},
   "outputs": [
    {
     "name": "stdout",
     "output_type": "stream",
     "text": [
      "1 Uno\n",
      "2 Dos\n"
     ]
    }
   ],
   "source": [
    "#zip() con diferentes longitudes (usando iterables de diferentes longitudes)\n",
    "#lo que pasará es que el iterador para cuando la lista más pequeña se acaba.\n",
    "\n",
    "numeros = [1, 2, 3, 4, 5]\n",
    "espanol = [\"Uno\", \"Dos\"]\n",
    "\n",
    "for n, e in zip(numeros, espanol):\n",
    "    print(n, e)"
   ]
  },
  {
   "cell_type": "code",
   "execution_count": 5,
   "metadata": {},
   "outputs": [
    {
     "name": "stdout",
     "output_type": "stream",
     "text": [
      "[(1,), (2,), (3,), (4,), (5,)]\n"
     ]
    }
   ],
   "source": [
    "#zip() con un argumento\n",
    "#es posible usar un único valor de parámetros de entrada. El resultado son tuplas de un elemento.\n",
    "\n",
    "numeros = [1, 2, 3, 4, 5]\n",
    "zz = zip(numeros)\n",
    "print(list(zz))"
   ]
  },
  {
   "cell_type": "code",
   "execution_count": 6,
   "metadata": {},
   "outputs": [
    {
     "name": "stdout",
     "output_type": "stream",
     "text": [
      "1 1\n",
      "2 2\n",
      "3 3\n"
     ]
    }
   ],
   "source": [
    "#zip() con diccionarios (la función está definida para cualquier clase iterable)\n",
    "\n",
    "#valores de las key del diccionario.\n",
    "esp = {'1': 'Uno', '2': 'Dos', '3': 'Tres'}\n",
    "eng = {'1': 'One', '2': 'Two', '3': 'Three'}\n",
    "\n",
    "for a, b in zip(esp, eng):\n",
    "    print(a, b)\n"
   ]
  },
  {
   "cell_type": "code",
   "execution_count": 13,
   "metadata": {},
   "outputs": [
    {
     "name": "stdout",
     "output_type": "stream",
     "text": [
      "1 Uno One\n",
      "2 Dos Two\n",
      "3 Tres Three\n"
     ]
    },
    {
     "data": {
      "text/plain": [
       "\" funciona igual que el anterior con la diferencia que guardo en una variable el zip\\nesp = {'1': 'Uno', '2': 'Dos', '3': 'Tres'}\\neng = {'1': 'One', '2': 'Two', '3': 'Three'}\\nesp_eng = zip(esp.items(), eng.items())\\n\\nfor (k1, v1), (k2, v2) in esp_eng:\\n    print(k1, v1, v2) \""
      ]
     },
     "execution_count": 13,
     "metadata": {},
     "output_type": "execute_result"
    }
   ],
   "source": [
    "#zip() con diccionarios (la función está definida para cualquier clase iterable)\n",
    "\n",
    "#acceder al key y value de cada elemento.\n",
    "esp = {'1': 'Uno', '2': 'Dos', '3': 'Tres'}\n",
    "eng = {'1': 'One', '2': 'Two', '3': 'Three'}\n",
    "\n",
    "for (k1, v1), (k2, v2) in zip(esp.items(), eng.items()):\n",
    "    print(k1, v1, v2) #no se manda a imprimir k2 ya que en este caso ambas key k1 y k2 son iguales.\n",
    "\n",
    "\n",
    "\"\"\" funciona igual que el anterior con la diferencia que guardo en una variable el zip\n",
    "esp = {'1': 'Uno', '2': 'Dos', '3': 'Tres'}\n",
    "eng = {'1': 'One', '2': 'Two', '3': 'Three'}\n",
    "esp_eng = zip(esp.items(), eng.items())\n",
    "\n",
    "for (k1, v1), (k2, v2) in esp_eng:\n",
    "    print(k1, v1, v2) \"\"\"\n"
   ]
  },
  {
   "cell_type": "code",
   "execution_count": 25,
   "metadata": {},
   "outputs": [
    {
     "name": "stdout",
     "output_type": "stream",
     "text": [
      "[(1, 'One'), (2, 'Two'), (3, 'Three')]\n"
     ]
    }
   ],
   "source": [
    "#Deshacer el zip()\n",
    "a = [1, 2, 3]\n",
    "b = [\"One\", \"Two\", \"Three\"]\n",
    "c = zip(a, b)\n",
    "\n",
    "print(list(c)) "
   ]
  },
  {
   "cell_type": "code",
   "execution_count": 28,
   "metadata": {},
   "outputs": [
    {
     "name": "stdout",
     "output_type": "stream",
     "text": [
      "(1, 2, 3)\n",
      "('One', 'Two', 'Three')\n"
     ]
    }
   ],
   "source": [
    "#tomamos el resultado del zip anterior y lo guardamos en una variable\n",
    "\n",
    "c = [(1, 'One'), (2, 'Two'), (3, 'Three')]\n",
    "a, b = zip(*c)  #unpacking\n",
    "\n",
    "print(a)\n",
    "print(b)"
   ]
  },
  {
   "cell_type": "code",
   "execution_count": null,
   "metadata": {},
   "outputs": [],
   "source": [
    "#CONDICIONALES / COMPRENSIÓN DE LISTA\n",
    "#es una tecnica para crear nuevas listas a partir de un iterable existente"
   ]
  },
  {
   "cell_type": "code",
   "execution_count": 23,
   "metadata": {},
   "outputs": [
    {
     "name": "stdout",
     "output_type": "stream",
     "text": [
      "[4, 8, 12]\n"
     ]
    }
   ],
   "source": [
    "numeros = [1, 2, 3, 4, 5, 6]\n",
    "pares_por_dos = [x * 2 for x in numeros if x % 2 == 0]\n",
    "print(pares_por_dos)"
   ]
  },
  {
   "cell_type": "code",
   "execution_count": 24,
   "metadata": {},
   "outputs": [
    {
     "name": "stdout",
     "output_type": "stream",
     "text": [
      "['r', 'r', 'r', 'r']\n"
     ]
    }
   ],
   "source": [
    "frase = \"El perro de san roque no tiene rabo\"\n",
    "erres = [i for i in frase if i == 'r']\n",
    "print(erres)"
   ]
  },
  {
   "cell_type": "code",
   "execution_count": 25,
   "metadata": {},
   "outputs": [
    {
     "name": "stdout",
     "output_type": "stream",
     "text": [
      "4\n"
     ]
    }
   ],
   "source": [
    "print(len(erres))"
   ]
  }
 ],
 "metadata": {
  "kernelspec": {
   "display_name": "base",
   "language": "python",
   "name": "python3"
  },
  "language_info": {
   "codemirror_mode": {
    "name": "ipython",
    "version": 3
   },
   "file_extension": ".py",
   "mimetype": "text/x-python",
   "name": "python",
   "nbconvert_exporter": "python",
   "pygments_lexer": "ipython3",
   "version": "3.10.9"
  },
  "orig_nbformat": 4
 },
 "nbformat": 4,
 "nbformat_minor": 2
}
