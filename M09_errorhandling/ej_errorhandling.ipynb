{
 "cells": [
  {
   "cell_type": "markdown",
   "metadata": {},
   "source": [
    "Caja negra"
   ]
  },
  {
   "cell_type": "code",
   "execution_count": 3,
   "metadata": {},
   "outputs": [],
   "source": [
    "import unittest \n",
    "\n",
    "def suma(num1, num2):\n",
    "    return num1 + num2"
   ]
  },
  {
   "cell_type": "code",
   "execution_count": 2,
   "metadata": {},
   "outputs": [],
   "source": [
    "class CajaNegraTest(unittest.TestCase):\n",
    "\n",
    "    def test_suma_dos_positivos(self):\n",
    "        num_1 = 10\n",
    "        num_2 = 5\n",
    "\n",
    "        resultado = suma(num_1, num_2)\n",
    "\n",
    "        self.assertEqual(resultado, 15)\n",
    "\n",
    "    def test_suma_dos_negativos(self):\n",
    "        num_1 = -10\n",
    "        num_2 = -7\n",
    "\n",
    "        resultado = suma(num_1, num_2)\n",
    "\n",
    "        self.assertEqual(resultado, -17)\n"
   ]
  },
  {
   "cell_type": "code",
   "execution_count": 3,
   "metadata": {},
   "outputs": [
    {
     "name": "stderr",
     "output_type": "stream",
     "text": [
      "test_suma_dos_negativos (__main__.CajaNegraTest) ... ok\n",
      "test_suma_dos_positivos (__main__.CajaNegraTest) ... ok\n",
      "\n",
      "----------------------------------------------------------------------\n",
      "Ran 2 tests in 0.009s\n",
      "\n",
      "OK\n"
     ]
    },
    {
     "ename": "NameError",
     "evalue": "name 'test_suma_dos_positivos' is not defined",
     "output_type": "error",
     "traceback": [
      "\u001b[1;31m---------------------------------------------------------------------------\u001b[0m",
      "\u001b[1;31mNameError\u001b[0m                                 Traceback (most recent call last)",
      "Cell \u001b[1;32mIn[3], line 6\u001b[0m\n\u001b[0;32m      1\u001b[0m \u001b[39m#argv se utiliza para proporcionar argumentos de linea de comando a la prueba\u001b[39;00m\n\u001b[0;32m      2\u001b[0m \n\u001b[0;32m      3\u001b[0m \u001b[39m#el argumento exit con valor true, se usa para indicar que detenga la ejecucion despues de correr el test\u001b[39;00m\n\u001b[0;32m      5\u001b[0m unittest\u001b[39m.\u001b[39mmain(argv\u001b[39m=\u001b[39m[\u001b[39m\"\u001b[39m\u001b[39m\"\u001b[39m], verbosity\u001b[39m=\u001b[39m \u001b[39m2\u001b[39m, exit\u001b[39m=\u001b[39m\u001b[39mFalse\u001b[39;00m)\n\u001b[1;32m----> 6\u001b[0m test_suma_dos_positivos(__main__\u001b[39m.\u001b[39mCajaNegraTest)\n\u001b[0;32m      7\u001b[0m test_suma_dos_negativos(__main__\u001b[39m.\u001b[39mCajaNegraTest)\n",
      "\u001b[1;31mNameError\u001b[0m: name 'test_suma_dos_positivos' is not defined"
     ]
    }
   ],
   "source": [
    "#argv se utiliza para proporcionar argumentos de linea de comando a la prueba\n",
    "\n",
    "#el argumento exit con valor true, se usa para indicar que detenga la ejecucion despues de correr el test\n",
    "\n",
    "unittest.main(argv=[\"\"], verbosity= 2, exit=False)\n",
    "test_suma_dos_positivos(__main__.CajaNegraTest)\n",
    "test_suma_dos_negativos(__main__.CajaNegraTest)\n",
    "              "
   ]
  },
  {
   "cell_type": "markdown",
   "metadata": {},
   "source": [
    "Caja de cristal"
   ]
  },
  {
   "cell_type": "code",
   "execution_count": 4,
   "metadata": {},
   "outputs": [],
   "source": [
    "import unittest"
   ]
  },
  {
   "cell_type": "code",
   "execution_count": 5,
   "metadata": {},
   "outputs": [],
   "source": [
    "def es_mayor_de_edad(edad):\n",
    "    if edad >= 18:\n",
    "        return True\n",
    "    else:\n",
    "        return False"
   ]
  },
  {
   "cell_type": "code",
   "execution_count": 10,
   "metadata": {},
   "outputs": [],
   "source": [
    "class PruebaDeCristalTest(unittest.TestCase):\n",
    "\n",
    "    def test_es_mayor_de_edad(self):\n",
    "        edad = 20\n",
    "\n",
    "        resultado = es_mayor_de_edad(edad)\n",
    "\n",
    "        self.assertEqual(resultado, True)\n",
    "\n",
    "    def test_es_menor_de_edad(self):\n",
    "        edad = 15\n",
    "\n",
    "        resultado = es_mayor_de_edad(edad)\n",
    "\n",
    "        self.assertEqual(resultado, False)"
   ]
  },
  {
   "cell_type": "code",
   "execution_count": 11,
   "metadata": {},
   "outputs": [
    {
     "name": "stderr",
     "output_type": "stream",
     "text": [
      "test_es_mayor_de_edad (__main__.PruebaDeCristalTest) ... ok\n",
      "test_es_menor_de_edad (__main__.PruebaDeCristalTest) ... ok\n",
      "\n",
      "----------------------------------------------------------------------\n",
      "Ran 2 tests in 0.009s\n",
      "\n",
      "OK\n"
     ]
    },
    {
     "data": {
      "text/plain": [
       "<unittest.main.TestProgram at 0x261b6f3fa90>"
      ]
     },
     "execution_count": 11,
     "metadata": {},
     "output_type": "execute_result"
    }
   ],
   "source": [
    "unittest.main(argv=[\"\"], verbosity= 2, exit=False)"
   ]
  },
  {
   "cell_type": "markdown",
   "metadata": {},
   "source": [
    "Debugging/Excepciones"
   ]
  },
  {
   "cell_type": "code",
   "execution_count": 15,
   "metadata": {},
   "outputs": [],
   "source": [
    "def multiplica_por_dos(lista):\n",
    "    for num in lista:\n",
    "        lista_multiplicada.append(num * 2)\n",
    "    return lista_multiplicada"
   ]
  },
  {
   "cell_type": "code",
   "execution_count": 16,
   "metadata": {},
   "outputs": [
    {
     "ename": "NameError",
     "evalue": "name 'lista_multiplicada' is not defined",
     "output_type": "error",
     "traceback": [
      "\u001b[1;31m---------------------------------------------------------------------------\u001b[0m",
      "\u001b[1;31mNameError\u001b[0m                                 Traceback (most recent call last)",
      "Cell \u001b[1;32mIn[16], line 2\u001b[0m\n\u001b[0;32m      1\u001b[0m numeros \u001b[39m=\u001b[39m [\u001b[39m1\u001b[39m,\u001b[39m2\u001b[39m,\u001b[39m3\u001b[39m,\u001b[39m4\u001b[39m,\u001b[39m5\u001b[39m]\n\u001b[1;32m----> 2\u001b[0m resultado \u001b[39m=\u001b[39m multiplica_por_dos(numeros)\n\u001b[0;32m      3\u001b[0m \u001b[39mprint\u001b[39m(resultado)\n",
      "Cell \u001b[1;32mIn[15], line 3\u001b[0m, in \u001b[0;36mmultiplica_por_dos\u001b[1;34m(lista)\u001b[0m\n\u001b[0;32m      1\u001b[0m \u001b[39mdef\u001b[39;00m \u001b[39mmultiplica_por_dos\u001b[39m(lista):\n\u001b[0;32m      2\u001b[0m     \u001b[39mfor\u001b[39;00m num \u001b[39min\u001b[39;00m lista:\n\u001b[1;32m----> 3\u001b[0m         lista_multiplicada\u001b[39m.\u001b[39mappend(num \u001b[39m*\u001b[39m \u001b[39m2\u001b[39m)\n\u001b[0;32m      4\u001b[0m     \u001b[39mreturn\u001b[39;00m lista_multiplicada\n",
      "\u001b[1;31mNameError\u001b[0m: name 'lista_multiplicada' is not defined"
     ]
    }
   ],
   "source": [
    "numeros = [1,2,3,4,5]\n",
    "resultado = multiplica_por_dos(numeros)\n",
    "print(resultado)"
   ]
  },
  {
   "cell_type": "code",
   "execution_count": 18,
   "metadata": {},
   "outputs": [],
   "source": [
    "#se corrige error defiiendo una lista vacia\n",
    "def multiplica_por_dos(lista):\n",
    "    lista_multiplicada = []\n",
    "    for num in lista:\n",
    "        lista_multiplicada.append(num * 2)\n",
    "    return lista_multiplicada"
   ]
  },
  {
   "cell_type": "code",
   "execution_count": 19,
   "metadata": {},
   "outputs": [
    {
     "name": "stdout",
     "output_type": "stream",
     "text": [
      "[2, 4, 6, 8, 10]\n"
     ]
    }
   ],
   "source": [
    "numeros = [1,2,3,4,5]\n",
    "resultado = multiplica_por_dos(numeros)\n",
    "print(resultado)"
   ]
  },
  {
   "cell_type": "code",
   "execution_count": 21,
   "metadata": {},
   "outputs": [],
   "source": [
    "def divide_elementos_de_lista(lista, divisor):\n",
    "    '''\n",
    "    Cada elemento de una lista es dividida por un divisor definido.\n",
    "    En caso de error de tipo ZeroDivisionError que\n",
    "    significa error al dividir en cero\n",
    "    la función devuelve la lista inicial\n",
    "    '''\n",
    "    try:\n",
    "        return [i / divisor for i in lista]\n",
    "    except ZeroDivisionError as e:\n",
    "        print(e)\n",
    "        return lista\n",
    "    "
   ]
  },
  {
   "cell_type": "code",
   "execution_count": 22,
   "metadata": {},
   "outputs": [
    {
     "name": "stdout",
     "output_type": "stream",
     "text": [
      "division by zero\n",
      "[0, 1, 2, 3, 4, 5, 6, 7, 8, 9]\n"
     ]
    }
   ],
   "source": [
    "lista = list(range(10))\n",
    "divisor = 0\n",
    "\n",
    "print(divide_elementos_de_lista(lista, divisor))"
   ]
  },
  {
   "cell_type": "markdown",
   "metadata": {},
   "source": [
    "Excepciones, control de flujo y afirmaciones. "
   ]
  },
  {
   "cell_type": "code",
   "execution_count": 23,
   "metadata": {},
   "outputs": [],
   "source": [
    "def dividir(num1, num2):\n",
    "    try:\n",
    "        resultado = num1 / num2\n",
    "        return resultado\n",
    "    except ZeroDivisionError:\n",
    "        print(\"No se puede dividir por cero.\")\n",
    "        return None"
   ]
  },
  {
   "cell_type": "code",
   "execution_count": 24,
   "metadata": {},
   "outputs": [
    {
     "name": "stdout",
     "output_type": "stream",
     "text": [
      "No se puede dividir por cero.\n"
     ]
    }
   ],
   "source": [
    "dividir(18,0)"
   ]
  },
  {
   "cell_type": "code",
   "execution_count": 25,
   "metadata": {},
   "outputs": [
    {
     "name": "stdout",
     "output_type": "stream",
     "text": [
      "El archivo no existe.\n"
     ]
    }
   ],
   "source": [
    "try:\n",
    "    with open(\"archivo.txt\", \"r\") as f:\n",
    "        contenido = f.read()\n",
    "except FileNotFoundError:\n",
    "    print(\"El archivo no existe.\")"
   ]
  },
  {
   "cell_type": "code",
   "execution_count": 27,
   "metadata": {},
   "outputs": [
    {
     "name": "stdout",
     "output_type": "stream",
     "text": [
      "La clave no existe en el diccionario\n"
     ]
    }
   ],
   "source": [
    "#key error\n",
    "paises = {'Mexico':'MX','Estados Unidos':'US', 'Canada': 'CA'}\n",
    "\n",
    "try:\n",
    "    codigo = paises['Argentina']\n",
    "except KeyError:\n",
    "    print('La clave no existe en el diccionario')"
   ]
  },
  {
   "cell_type": "code",
   "execution_count": 28,
   "metadata": {},
   "outputs": [],
   "source": [
    "#Afirmaciones\n",
    "\n",
    "def primera_letra(lista_de_palabras):\n",
    "  primeras_letras = []\n",
    "\n",
    "  for palabra in lista_de_palabras:\n",
    "    assert type(palabra) == str, f'{palabra} no es str'\n",
    "    assert len(palabra) > 0, 'No se permiten str vacíos'\n",
    "\n",
    "    primeras_letras.append(palabra[0])\n",
    "  return primeras_letras"
   ]
  },
  {
   "cell_type": "code",
   "execution_count": 29,
   "metadata": {},
   "outputs": [
    {
     "ename": "AssertionError",
     "evalue": "42 no es str",
     "output_type": "error",
     "traceback": [
      "\u001b[1;31m---------------------------------------------------------------------------\u001b[0m",
      "\u001b[1;31mAssertionError\u001b[0m                            Traceback (most recent call last)",
      "Cell \u001b[1;32mIn[29], line 3\u001b[0m\n\u001b[0;32m      1\u001b[0m palabras \u001b[39m=\u001b[39m [\u001b[39m'\u001b[39m\u001b[39mhola\u001b[39m\u001b[39m'\u001b[39m,\u001b[39m'\u001b[39m\u001b[39mmundo\u001b[39m\u001b[39m'\u001b[39m, \u001b[39m42\u001b[39m]\n\u001b[1;32m----> 3\u001b[0m primera_letra(palabras)\n",
      "Cell \u001b[1;32mIn[28], line 7\u001b[0m, in \u001b[0;36mprimera_letra\u001b[1;34m(lista_de_palabras)\u001b[0m\n\u001b[0;32m      4\u001b[0m primeras_letras \u001b[39m=\u001b[39m []\n\u001b[0;32m      6\u001b[0m \u001b[39mfor\u001b[39;00m palabra \u001b[39min\u001b[39;00m lista_de_palabras:\n\u001b[1;32m----> 7\u001b[0m   \u001b[39massert\u001b[39;00m \u001b[39mtype\u001b[39m(palabra) \u001b[39m==\u001b[39m \u001b[39mstr\u001b[39m, \u001b[39mf\u001b[39m\u001b[39m'\u001b[39m\u001b[39m{\u001b[39;00mpalabra\u001b[39m}\u001b[39;00m\u001b[39m no es str\u001b[39m\u001b[39m'\u001b[39m\n\u001b[0;32m      8\u001b[0m   \u001b[39massert\u001b[39;00m \u001b[39mlen\u001b[39m(palabra) \u001b[39m>\u001b[39m \u001b[39m0\u001b[39m, \u001b[39m'\u001b[39m\u001b[39mNo se permiten str vacíos\u001b[39m\u001b[39m'\u001b[39m\n\u001b[0;32m     10\u001b[0m   primeras_letras\u001b[39m.\u001b[39mappend(palabra[\u001b[39m0\u001b[39m])\n",
      "\u001b[1;31mAssertionError\u001b[0m: 42 no es str"
     ]
    }
   ],
   "source": [
    "palabras = ['hola','mundo', 42]\n",
    "\n",
    "primera_letra(palabras)"
   ]
  }
 ],
 "metadata": {
  "kernelspec": {
   "display_name": "base",
   "language": "python",
   "name": "python3"
  },
  "language_info": {
   "codemirror_mode": {
    "name": "ipython",
    "version": 3
   },
   "file_extension": ".py",
   "mimetype": "text/x-python",
   "name": "python",
   "nbconvert_exporter": "python",
   "pygments_lexer": "ipython3",
   "version": "3.10.9"
  },
  "orig_nbformat": 4
 },
 "nbformat": 4,
 "nbformat_minor": 2
}
