{
 "cells": [
  {
   "cell_type": "code",
   "execution_count": 3,
   "metadata": {},
   "outputs": [],
   "source": [
    "#CLASES"
   ]
  },
  {
   "cell_type": "code",
   "execution_count": 1,
   "metadata": {},
   "outputs": [],
   "source": [
    "#el nombre de la clase siempre debe iniciar con MAYÚSCULA\n",
    "class Gato:\n",
    "    #metodo constructor\n",
    "    def __init__(self, nombre, edad):  #Atributos separados por coma (nombre,edad)\n",
    "        self.nombre = nombre\n",
    "        self.edad = edad"
   ]
  },
  {
   "cell_type": "code",
   "execution_count": 2,
   "metadata": {},
   "outputs": [],
   "source": [
    "#Instanciamos o sea, creamos un objeto de la clase Gato\n",
    "#gato1 es el nombre del objeto (que pertenece a la clase Gato)\n",
    "gato1= Gato('Pompón',2) #en paréntesis se indican los valores de los argumentos (nombre=Pompon y edad=2)\n",
    "                        #el orden de los valores deben darse tal como se definió en el constructr de la clase"
   ]
  },
  {
   "cell_type": "code",
   "execution_count": 4,
   "metadata": {},
   "outputs": [],
   "source": [
    "#Atributos de instancia: Se debe especificar un valor al momento de crear un objeto\n",
    "class Gato:\n",
    "    def __init__(self, nombre, edad, raza, sexo):\n",
    "        self.nombre = nombre\n",
    "        self.edad = edad\n",
    "        self.raza = raza\n",
    "        self.sexo = sexo"
   ]
  },
  {
   "cell_type": "code",
   "execution_count": 5,
   "metadata": {},
   "outputs": [
    {
     "name": "stdout",
     "output_type": "stream",
     "text": [
      "<__main__.Gato object at 0x000002172597C580>\n"
     ]
    }
   ],
   "source": [
    "#Se debe respetar el orden de los argumentos para cada parámetro definido en el constructor de la clase\n",
    "gato1 = Gato('Pompón', 2,'Siames','Macho')\n",
    "print(gato1)"
   ]
  },
  {
   "cell_type": "code",
   "execution_count": 15,
   "metadata": {},
   "outputs": [],
   "source": [
    "class Gato:\n",
    "    def __init__(self, nombre, edad,raza, sexo):\n",
    "        self.nombre = nombre\n",
    "        self.edad = edad\n",
    "        self.raza = raza\n",
    "        self.sexo = sexo\n",
    "   #Creamos el método presentar para hacer que la clase nos devuelva la informacion del objeto \n",
    "   \n",
    "   #Método presentar \n",
    "    def presentar(self):\n",
    "        return print(\"Mi Nombre: \", self.nombre,\"Edad: \", self.edad,\"Raza: \", self.raza,\"Sexo: \", self.sexo)"
   ]
  },
  {
   "cell_type": "code",
   "execution_count": 16,
   "metadata": {},
   "outputs": [
    {
     "name": "stdout",
     "output_type": "stream",
     "text": [
      "Mi Nombre:  Pompón Edad:  2 Raza:  Siames Sexo:  Macho\n"
     ]
    }
   ],
   "source": [
    "#gato1 = Gato('Pompón', 2,'Siames','Macho')\n",
    "\n",
    "#no necesitamos cargar los argumentos para el método presentar\n",
    "#obtenemos a partir del método presentar toda la información del objeto gato1  \n",
    "\n",
    "gato1.presentar()"
   ]
  },
  {
   "cell_type": "code",
   "execution_count": null,
   "metadata": {},
   "outputs": [],
   "source": [
    "class CuentaBancaria:\n",
    "    def __init__(self, saldo):\n",
    "        self.__saldo = saldo  # el atributo saldo está encapsulado con __\n",
    "\n",
    "    #métodos publicos (autorizados) depositar/retirar/obtener saldo\n",
    "    #los métodos públicos permiten la iteración con el saldo de manera segura y controlada\n",
    "    #evitando la modificación accidental o no autorizada del atributo encapsulado saldo\n",
    "   \n",
    "    def depositar(self, monto): \n",
    "        self.__saldo += monto\n",
    "\n",
    "    def retirar(self, monto):\n",
    "        if self.__saldo >= monto:\n",
    "            self.__saldo -= monto\n",
    "        else:\n",
    "            print(\"Saldo insuficiente\")\n",
    "\n",
    "    def obtener_saldo(self):\n",
    "        return self.__saldo"
   ]
  },
  {
   "cell_type": "code",
   "execution_count": 17,
   "metadata": {},
   "outputs": [
    {
     "name": "stdout",
     "output_type": "stream",
     "text": [
      "Mi Nombre:  Nina Edad:  3 Raza:  Mezcla Sexo:  Hembra\n"
     ]
    }
   ],
   "source": [
    "#ej herencia: El objeto gato2 toma propiedades de la clase Gato\n",
    "#padre - hijo\n",
    "\n",
    "gato2 = Gato('Nina',3,'Mezcla','Hembra')\n",
    "\n",
    "gato2.presentar()"
   ]
  },
  {
   "cell_type": "code",
   "execution_count": 18,
   "metadata": {},
   "outputs": [],
   "source": [
    "class Animal:\n",
    "    def __init__(self, especie, edad, color):\n",
    "        self.especie = especie\n",
    "        self.edad = edad\n",
    "        self.color = color\n",
    "\n",
    "    def mePresento(self):\n",
    "        print('Hola, soy ', self.especie, ', de color', self.color, ' y tengo ', self.edad, ' años')\n",
    "    \n",
    "    def cumplirAños(self):\n",
    "        self.edad = self.edad + 1"
   ]
  },
  {
   "cell_type": "code",
   "execution_count": 19,
   "metadata": {},
   "outputs": [],
   "source": [
    "#instanciamos objetos\n",
    "a1 = Animal('Ratón',2,'Marrón')\n",
    "a2 = Animal('Liebre',3,'Gris')"
   ]
  },
  {
   "cell_type": "code",
   "execution_count": 20,
   "metadata": {},
   "outputs": [
    {
     "name": "stdout",
     "output_type": "stream",
     "text": [
      "Ratón\n",
      "2\n",
      "Liebre\n",
      "3\n"
     ]
    }
   ],
   "source": [
    "print(a1.especie)\n",
    "print(a1.edad)\n",
    "print(a2.especie)\n",
    "print(a2.edad)"
   ]
  },
  {
   "cell_type": "code",
   "execution_count": 21,
   "metadata": {},
   "outputs": [
    {
     "name": "stdout",
     "output_type": "stream",
     "text": [
      "Hola, soy  Ratón , de color Marrón  y tengo  2  años\n"
     ]
    }
   ],
   "source": [
    "a1.mePresento()"
   ]
  },
  {
   "cell_type": "code",
   "execution_count": 22,
   "metadata": {},
   "outputs": [
    {
     "name": "stdout",
     "output_type": "stream",
     "text": [
      "Hola, soy  Liebre , de color Gris  y tengo  3  años\n"
     ]
    }
   ],
   "source": [
    "a2.mePresento()"
   ]
  },
  {
   "cell_type": "code",
   "execution_count": 23,
   "metadata": {},
   "outputs": [],
   "source": [
    "a1.cumplirAños()\n",
    "a2.cumplirAños()"
   ]
  },
  {
   "cell_type": "code",
   "execution_count": 24,
   "metadata": {},
   "outputs": [
    {
     "name": "stdout",
     "output_type": "stream",
     "text": [
      "Hola, soy  Ratón , de color Marrón  y tengo  3  años\n"
     ]
    }
   ],
   "source": [
    "a1.mePresento()"
   ]
  },
  {
   "cell_type": "code",
   "execution_count": 25,
   "metadata": {},
   "outputs": [
    {
     "name": "stdout",
     "output_type": "stream",
     "text": [
      "Hola, soy  Liebre , de color Gris  y tengo  4  años\n"
     ]
    }
   ],
   "source": [
    "a2.mePresento()"
   ]
  },
  {
   "cell_type": "code",
   "execution_count": 1,
   "metadata": {},
   "outputs": [],
   "source": [
    "#HERENCIA\n",
    "\n",
    "class Animal: #clase base\n",
    "    def __init__(self, especie, edad):\n",
    "        self.especie = especie\n",
    "        self.edad = edad\n",
    "\n",
    "    # Método genérico pero con implementación particular\n",
    "    def hablar(self):\n",
    "        # Método vacío\n",
    "        pass\n",
    "\n",
    "    # Método genérico pero con implementación particular\n",
    "    def moverse(self):\n",
    "        # Método vacío\n",
    "        pass\n",
    "\n",
    "    # Método genérico con la misma implementación\n",
    "    def describeme(self):\n",
    "        print(\"Soy un Animal del tipo\", type(self).__name__)\n",
    "        "
   ]
  },
  {
   "cell_type": "code",
   "execution_count": 2,
   "metadata": {},
   "outputs": [],
   "source": [
    "# Perro hereda de clase Animal\n",
    "class Perro(Animal):\n",
    "    pass"
   ]
  },
  {
   "cell_type": "code",
   "execution_count": 3,
   "metadata": {},
   "outputs": [
    {
     "name": "stdout",
     "output_type": "stream",
     "text": [
      "Soy un Animal del tipo Perro\n"
     ]
    }
   ],
   "source": [
    "mi_perro = Perro('mamífero', 10)\n",
    "mi_perro.describeme()"
   ]
  },
  {
   "cell_type": "code",
   "execution_count": 5,
   "metadata": {},
   "outputs": [],
   "source": [
    "#clases derivadas y más especializadas\n",
    "class Perro(Animal):\n",
    "    def hablar(self):\n",
    "        print(\"Guau!\")\n",
    "    def moverse(self):\n",
    "        print(\"Caminando con 4 patas\")\n",
    "\n",
    "class Vaca(Animal):\n",
    "    def hablar(self):\n",
    "        print(\"Muuu!\")\n",
    "    def moverse(self):\n",
    "        print(\"Caminando con 4 patas\")\n",
    "\n",
    "class Abeja(Animal): \n",
    "    def hablar(self):\n",
    "        print(\"Bzzzz!\")\n",
    "    def moverse(self):\n",
    "        print(\"Volando\")\n",
    "\n",
    "    # Nuevo método (no está presente en la clase base ni en ninguna de las derivadas)\n",
    "    def picar(self):\n",
    "        print(\"Picar!\")"
   ]
  },
  {
   "cell_type": "code",
   "execution_count": 6,
   "metadata": {},
   "outputs": [],
   "source": [
    "mi_perro = Perro('Mamífero',10)\n",
    "mi_vaca = Vaca('Mamífero',23)\n",
    "mi_abeja = Abeja('Insecto',1)"
   ]
  },
  {
   "cell_type": "code",
   "execution_count": 7,
   "metadata": {},
   "outputs": [
    {
     "name": "stdout",
     "output_type": "stream",
     "text": [
      "Muuu!\n"
     ]
    }
   ],
   "source": [
    "mi_vaca.hablar()"
   ]
  },
  {
   "cell_type": "code",
   "execution_count": 8,
   "metadata": {},
   "outputs": [
    {
     "name": "stdout",
     "output_type": "stream",
     "text": [
      "Soy un Animal del tipo Abeja\n"
     ]
    }
   ],
   "source": [
    "mi_abeja.describeme()"
   ]
  },
  {
   "cell_type": "code",
   "execution_count": 9,
   "metadata": {},
   "outputs": [
    {
     "name": "stdout",
     "output_type": "stream",
     "text": [
      "Picar!\n"
     ]
    }
   ],
   "source": [
    "mi_abeja.picar()"
   ]
  },
  {
   "cell_type": "code",
   "execution_count": 10,
   "metadata": {},
   "outputs": [],
   "source": [
    "#SUPER: nos permite acceder a los metodos de la clase padre desde una de sus hijas\n",
    "\n",
    "\n",
    "#queremos que el objeto \"perro\" tenga un parámetro extra en el constructor\n",
    "\n",
    "#Alternativa 1:inicializar los atributos directamente en el constructor de la clase perro\n",
    "#con esta opción estaríamos repitiendo código\n",
    "class Perro(Animal):\n",
    "     def __init__(self, especie, edad,dueño):\n",
    "        self.especie = especie\n",
    "        self.edad = edad\n",
    "        self.dueño = dueño\n",
    "\n",
    "\n",
    "\n",
    "#Alternativa 2: SUPER, se utiliza para llamar al metodo init de la clase base (animal)\n",
    "#a la subclase perro agrega el atributo dueño\n",
    "\n",
    "class Perro(Animal):\n",
    "     def __init__(self, especie, edad, dueño):\n",
    "        super().__init__(especie,edad) \n",
    "        self.dueño = dueño\n",
    "        "
   ]
  },
  {
   "cell_type": "code",
   "execution_count": 11,
   "metadata": {},
   "outputs": [],
   "source": [
    "nuevo_perro = Perro('Mamífero',7,'Luis')"
   ]
  },
  {
   "cell_type": "code",
   "execution_count": 12,
   "metadata": {},
   "outputs": [
    {
     "name": "stdout",
     "output_type": "stream",
     "text": [
      "Mamífero\n",
      "7\n",
      "Luis\n"
     ]
    }
   ],
   "source": [
    "print(nuevo_perro.especie)\n",
    "print(nuevo_perro.edad)\n",
    "print(nuevo_perro.dueño)"
   ]
  },
  {
   "cell_type": "markdown",
   "metadata": {},
   "source": [
    "#LIBRERIAS Y MODULOS"
   ]
  },
  {
   "cell_type": "code",
   "execution_count": 13,
   "metadata": {},
   "outputs": [
    {
     "name": "stdout",
     "output_type": "stream",
     "text": [
      "4.0\n"
     ]
    }
   ],
   "source": [
    "import math #invocamos la biblioteca math\n",
    "\n",
    "x=16\n",
    "raiz_cuadrada =  math.sqrt(x)\n",
    "\n",
    "print(raiz_cuadrada)"
   ]
  },
  {
   "cell_type": "code",
   "execution_count": 14,
   "metadata": {},
   "outputs": [
    {
     "name": "stdout",
     "output_type": "stream",
     "text": [
      "7\n",
      "1\n"
     ]
    }
   ],
   "source": [
    "#creando nuestro propio módulo\n",
    "#se crea mimodulo.py\n",
    "\n",
    "import mimodulo\n",
    "\n",
    "print(mimodulo.suma(4,3))\n",
    "print(mimodulo.resta(10,9))"
   ]
  },
  {
   "cell_type": "code",
   "execution_count": 15,
   "metadata": {},
   "outputs": [
    {
     "name": "stdout",
     "output_type": "stream",
     "text": [
      "14\n"
     ]
    }
   ],
   "source": [
    "#podemos importar unicamente los componentes que nos interesen\n",
    "from mimodulo import suma\n",
    "print(suma(8,6))"
   ]
  },
  {
   "cell_type": "code",
   "execution_count": 16,
   "metadata": {},
   "outputs": [
    {
     "name": "stdout",
     "output_type": "stream",
     "text": [
      "12\n"
     ]
    }
   ],
   "source": [
    "#tambien podemos importar todo el módulo haciendo uso de asterisco\n",
    "from mimodulo import *\n",
    "print(resta(22,10))"
   ]
  },
  {
   "cell_type": "code",
   "execution_count": 34,
   "metadata": {},
   "outputs": [],
   "source": [
    "#SYS.PATH: Ruta predeterminada. Lista de rutas donde python busca los modulos al importarlos\n",
    "#normalmente los modulos que importamos estan en la misma carpeta\n",
    "#pero es posible tambien acceder a modulos ubicados en subcarpetas\n",
    "\n",
    "#from mimodulo import *\n",
    "#print(hola())\n"
   ]
  },
  {
   "cell_type": "code",
   "execution_count": 35,
   "metadata": {},
   "outputs": [
    {
     "name": "stdout",
     "output_type": "stream",
     "text": [
      "['c:\\\\Users\\\\johan\\\\OneDrive\\\\Documents\\\\Python\\\\SoyHenry\\\\Python-Prep\\\\M08_clasesyOOP', 'c:\\\\Users\\\\johan\\\\anaconda3\\\\python310.zip', 'c:\\\\Users\\\\johan\\\\anaconda3\\\\DLLs', 'c:\\\\Users\\\\johan\\\\anaconda3\\\\lib', 'c:\\\\Users\\\\johan\\\\anaconda3', '', 'c:\\\\Users\\\\johan\\\\anaconda3\\\\lib\\\\site-packages', 'c:\\\\Users\\\\johan\\\\anaconda3\\\\lib\\\\site-packages\\\\win32', 'c:\\\\Users\\\\johan\\\\anaconda3\\\\lib\\\\site-packages\\\\win32\\\\lib', 'c:\\\\Users\\\\johan\\\\anaconda3\\\\lib\\\\site-packages\\\\Pythonwin']\n"
     ]
    }
   ],
   "source": [
    "import sys\n",
    "print(sys.path)"
   ]
  },
  {
   "cell_type": "code",
   "execution_count": null,
   "metadata": {},
   "outputs": [],
   "source": [
    "#importar modulo en ubicacion distinta\n",
    "import sys\n",
    "sys.path.append(r'ruta/de/tu/modulo') #esto agrega una nueva ruta al sistema de importacion de python\n"
   ]
  },
  {
   "cell_type": "code",
   "execution_count": 37,
   "metadata": {},
   "outputs": [
    {
     "name": "stdout",
     "output_type": "stream",
     "text": [
      "hola\n"
     ]
    }
   ],
   "source": [
    "#alias\n",
    "import moduloconnombrelargo as m\n",
    "print(m.hola)"
   ]
  }
 ],
 "metadata": {
  "kernelspec": {
   "display_name": "base",
   "language": "python",
   "name": "python3"
  },
  "language_info": {
   "codemirror_mode": {
    "name": "ipython",
    "version": 3
   },
   "file_extension": ".py",
   "mimetype": "text/x-python",
   "name": "python",
   "nbconvert_exporter": "python",
   "pygments_lexer": "ipython3",
   "version": "3.10.9"
  },
  "orig_nbformat": 4
 },
 "nbformat": 4,
 "nbformat_minor": 2
}
