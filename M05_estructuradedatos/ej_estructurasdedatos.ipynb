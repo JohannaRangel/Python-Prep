{
 "cells": [
  {
   "cell_type": "markdown",
   "metadata": {},
   "source": [
    "LISTAS\n",
    "°Son estructuras de datos que permite almacenar datos de cualquier tipo. (similares a los arrays)\n",
    "°Son ordenadas, mantienen el orden en el que han sido definidas\n",
    "°Pueden ser formadas por tipos arbitrarios, es decir; sus elementos pueden ser de distintos tipos de dato \n",
    "°Se requiere de un índice para acceder a cada elemento.\n",
    "°Se pueden anidar, es decir, meter una dentro de la otra.\n",
    "°Sea crea con [] separando sus elementos con comas\n",
    "°Son mutables, ya que sus elementos pueden ser modificados.\n",
    "°Son dinámicas, ya que se pueden añadir o eliminar elementos.\n",
    "<Los dos últimos puntos son la principal diferencia con los sets y las tuplas>"
   ]
  },
  {
   "cell_type": "code",
   "execution_count": 4,
   "metadata": {},
   "outputs": [],
   "source": [
    "#Se crean \n",
    "\n",
    "#alternativa 1\n",
    "lista = [1, 2, 3, 4]\n",
    "\n",
    "#alternativa 2\n",
    "lista = list(\"1234\")\n",
    "\n",
    "#alternativa 3\n",
    "lista = [1, \"Hola\", 3.67, [1, 2, 3]]"
   ]
  },
  {
   "cell_type": "code",
   "execution_count": 22,
   "metadata": {},
   "outputs": [
    {
     "data": {
      "text/plain": [
       "[22, 23, 24, 25]"
      ]
     },
     "execution_count": 22,
     "metadata": {},
     "output_type": "execute_result"
    }
   ],
   "source": [
    "#guardan números\n",
    "[22,23,24,25]"
   ]
  },
  {
   "cell_type": "code",
   "execution_count": 23,
   "metadata": {},
   "outputs": [
    {
     "data": {
      "text/plain": [
       "['rojo', 'azul', 'amarillo']"
      ]
     },
     "execution_count": 23,
     "metadata": {},
     "output_type": "execute_result"
    }
   ],
   "source": [
    "#guardan string. \n",
    "[\"rojo\", \"azul\", \"amarillo\"]"
   ]
  },
  {
   "cell_type": "code",
   "execution_count": 24,
   "metadata": {},
   "outputs": [
    {
     "data": {
      "text/plain": [
       "['python', 8, 2.2, [10, 12, 14]]"
      ]
     },
     "execution_count": 24,
     "metadata": {},
     "output_type": "execute_result"
    }
   ],
   "source": [
    "#guardan diferentes tipos de datos\n",
    "['python',8,2.2,[10,12,14]]"
   ]
  },
  {
   "cell_type": "code",
   "execution_count": 25,
   "metadata": {},
   "outputs": [],
   "source": [
    "#guardar lista en una variable \n",
    "colores = [\"rojo\", \"azul\", \"amarillo\"]\n",
    "numeros = [22,23,24,25]\n",
    "lista_vacia = []"
   ]
  },
  {
   "cell_type": "code",
   "execution_count": 26,
   "metadata": {},
   "outputs": [
    {
     "name": "stdout",
     "output_type": "stream",
     "text": [
      "['rojo', 'azul', 'amarillo']\n",
      "<class 'list'>\n",
      "[22, 23, 24, 25]\n",
      "<class 'list'>\n",
      "[]\n",
      "<class 'list'>\n"
     ]
    }
   ],
   "source": [
    "print(colores)\n",
    "print(type(colores))\n",
    "\n",
    "print(numeros)\n",
    "print(type(numeros))\n",
    "\n",
    "print(lista_vacia)\n",
    "print(type(lista_vacia))"
   ]
  },
  {
   "cell_type": "code",
   "execution_count": 7,
   "metadata": {},
   "outputs": [
    {
     "name": "stdout",
     "output_type": "stream",
     "text": [
      "90\n",
      "Python\n",
      "3.87\n",
      "3.87\n"
     ]
    }
   ],
   "source": [
    "#Acceder y modificar listas\n",
    "#Si tenemos una lista a con 3 elementos almacenados en ella, podemos acceder a los mismos usando corchetes y un índice, \n",
    "#que va desde 0 a n-1 siendo n el tamaño de la lista.\n",
    "\n",
    "a = [90, \"Python\", 3.87]\n",
    "print(a[0]) #90\n",
    "print(a[1]) #Python\n",
    "print(a[2]) #3.87\n",
    "\n",
    "print(a[-1]) #3.87  Se puede también acceder al último elemento usando el índice [-1]."
   ]
  },
  {
   "cell_type": "code",
   "execution_count": 9,
   "metadata": {},
   "outputs": [
    {
     "name": "stdout",
     "output_type": "stream",
     "text": [
      "[90, 'Python', 1]\n"
     ]
    }
   ],
   "source": [
    "#para modificar un elemento de la lista, basta con asignar con el operador = el nuevo valor.\n",
    "\n",
    "a = [90, \"Python\", 3.87]\n",
    "a[2] = 1\n",
    "print(a) #[90, 'Python', 1]"
   ]
  },
  {
   "cell_type": "code",
   "execution_count": 10,
   "metadata": {},
   "outputs": [
    {
     "name": "stdout",
     "output_type": "stream",
     "text": [
      "[1, 3, 4, 5]\n"
     ]
    }
   ],
   "source": [
    "#eliminar un elemento por el índice \n",
    "l = [1, 2, 3, 4, 5]\n",
    "del l[1]\n",
    "print(l)"
   ]
  },
  {
   "cell_type": "code",
   "execution_count": 27,
   "metadata": {},
   "outputs": [
    {
     "name": "stdout",
     "output_type": "stream",
     "text": [
      "amarillo\n"
     ]
    }
   ],
   "source": [
    "#índices de referencia\n",
    "#rojo, azul, amarillo: son ELEMENTOS DE LA LISTA\n",
    "#elemento ROJO --> índice 0\n",
    "#elemento AZUL --> índice 1\n",
    "\n",
    "mi_lista = [\"rojo\", \"azul\", \"amarillo\",\"naranja\",\"violeta\",\"verde\"]\n",
    "print(mi_lista[2]) #imprime el índice 2, el cual corresponde al elemento 3"
   ]
  },
  {
   "cell_type": "code",
   "execution_count": 28,
   "metadata": {},
   "outputs": [
    {
     "name": "stdout",
     "output_type": "stream",
     "text": [
      "['rojo', 'azul']\n"
     ]
    }
   ],
   "source": [
    "#accesa a un rango dentro de la lista. El límite inferior se incluye el superior se excluye\n",
    "print(mi_lista[0:2]) "
   ]
  },
  {
   "cell_type": "code",
   "execution_count": 29,
   "metadata": {},
   "outputs": [
    {
     "name": "stdout",
     "output_type": "stream",
     "text": [
      "['rojo', 'azul']\n"
     ]
    }
   ],
   "source": [
    "#omitimos el límite inferior de la lista. \n",
    "#Python asume por defecto que es un cero,imprime el elemento 1\n",
    "print(mi_lista[:2])"
   ]
  },
  {
   "cell_type": "code",
   "execution_count": 30,
   "metadata": {},
   "outputs": [
    {
     "name": "stdout",
     "output_type": "stream",
     "text": [
      "['rojo', 'azul', 'amarillo', 'naranja', 'violeta', 'verde']\n"
     ]
    }
   ],
   "source": [
    "#omitimos el valor del límite superior de la lista.\n",
    "#Python asume que se trata de todos los elementos a partir del primero\n",
    "print(mi_lista[0:])"
   ]
  },
  {
   "cell_type": "code",
   "execution_count": 16,
   "metadata": {},
   "outputs": [
    {
     "name": "stdout",
     "output_type": "stream",
     "text": [
      "p\n",
      "5\n",
      "7\n"
     ]
    }
   ],
   "source": [
    "#listas anidadas\n",
    "\n",
    "x = [1, 2, 3, ['p', 'q', [5, 6, 7]]]\n",
    "print(x[3][0])    #p\n",
    "print(x[3][2][0]) #5\n",
    "print(x[3][2][2]) #7"
   ]
  },
  {
   "cell_type": "code",
   "execution_count": 19,
   "metadata": {},
   "outputs": [
    {
     "name": "stdout",
     "output_type": "stream",
     "text": [
      "[1, 2]\n",
      "[3, 4, 5, 6]\n"
     ]
    }
   ],
   "source": [
    "#También es posible crear sublistas más pequeñas de una más grande. \n",
    "l = [1, 2, 3, 4, 5, 6]\n",
    "print(l[0:2]) #[1, 2]\n",
    "print(l[2:6]) #[3, 4, 5, 6]"
   ]
  },
  {
   "cell_type": "code",
   "execution_count": 20,
   "metadata": {},
   "outputs": [
    {
     "name": "stdout",
     "output_type": "stream",
     "text": [
      "[0, 0, 0, 4, 5, 6]\n"
     ]
    }
   ],
   "source": [
    "#de la misma manera podemos modificar múltiples valores de la lista a la vez usando :\n",
    "l = [1, 2, 3, 4, 5, 6]\n",
    "l[0:3] = [0, 0, 0]\n",
    "print(l) #[0, 0, 0, 4, 5, 6]"
   ]
  },
  {
   "cell_type": "code",
   "execution_count": 31,
   "metadata": {},
   "outputs": [
    {
     "name": "stdout",
     "output_type": "stream",
     "text": [
      "['rojo', 'azul', 'amarillo', 'naranja', 'violeta', 'verde', 'blanco']\n",
      "['rojo', 'azul', 'amarillo', 'naranja', 'violeta', 'verde', 'blanco', 'azul']\n"
     ]
    }
   ],
   "source": [
    "#append(): Función que agrega un elemento al final de la lista.\n",
    "#append(<obj>)\n",
    "\n",
    "mi_lista.append(\"blanco\")\n",
    "print(mi_lista)\n",
    "\n",
    "#si el elemento que se va incluir ya existe previamente en la lista va quedar duplicado\n",
    "mi_lista.append(\"azul\")\n",
    "print(mi_lista)"
   ]
  },
  {
   "cell_type": "code",
   "execution_count": 29,
   "metadata": {},
   "outputs": [
    {
     "name": "stdout",
     "output_type": "stream",
     "text": [
      "[1, 2, 3]\n"
     ]
    }
   ],
   "source": [
    "l = [1, 2]\n",
    "l.append(3)\n",
    "print(l)"
   ]
  },
  {
   "cell_type": "code",
   "execution_count": 32,
   "metadata": {},
   "outputs": [
    {
     "name": "stdout",
     "output_type": "stream",
     "text": [
      "['rojo', 'azul', 'amarillo', 'negro', 'naranja', 'violeta', 'verde', 'blanco', 'azul']\n"
     ]
    }
   ],
   "source": [
    "#insert(): Inserta un elemento en una posición específica o índice determinado de la lista.\n",
    "#insert(<index>, <obj>)\n",
    "\n",
    "mi_lista.insert(3,\"negro\")\n",
    "print(mi_lista)"
   ]
  },
  {
   "cell_type": "code",
   "execution_count": 31,
   "metadata": {},
   "outputs": [
    {
     "name": "stdout",
     "output_type": "stream",
     "text": [
      "[1, 2, 3]\n"
     ]
    }
   ],
   "source": [
    "l = [1, 3]\n",
    "l.insert(1, 2)\n",
    "print(l)"
   ]
  },
  {
   "cell_type": "code",
   "execution_count": 33,
   "metadata": {},
   "outputs": [
    {
     "name": "stdout",
     "output_type": "stream",
     "text": [
      "['rojo', 'azul', 'amarillo', 'negro', 'naranja', 'violeta', 'verde', 'blanco', 'azul', 'rosa', 'gris']\n"
     ]
    }
   ],
   "source": [
    "#extend(): Agrega/concatena los elementos de otra lista al final de la lista actual.\n",
    "#extend(<iterable>)\n",
    "mi_lista.extend(['rosa','gris'])\n",
    "print(mi_lista)"
   ]
  },
  {
   "cell_type": "code",
   "execution_count": 30,
   "metadata": {},
   "outputs": [
    {
     "name": "stdout",
     "output_type": "stream",
     "text": [
      "[1, 2, 3, 4]\n"
     ]
    }
   ],
   "source": [
    "l = [1, 2]\n",
    "l.extend([3, 4])\n",
    "print(l) "
   ]
  },
  {
   "cell_type": "code",
   "execution_count": 34,
   "metadata": {},
   "outputs": [
    {
     "name": "stdout",
     "output_type": "stream",
     "text": [
      "['libro', 'cuaderno', 'lapiz', 'sacapunta', 'colores']\n",
      "['libro', 'cuaderno', 'lapiz', 'sacapunta', 'colores', 'lapiz', 'sacapunta', 'colores']\n"
     ]
    }
   ],
   "source": [
    "mi_lista2=['libro','cuaderno']\n",
    "mi_lista3=['lapiz','sacapunta','colores']\n",
    "\n",
    "mi_lista2.extend(mi_lista3)\n",
    "print(mi_lista2)\n",
    "\n",
    "#tambien se puede así, sin necesidad ce crear una lista3\n",
    "mi_lista2.extend(['lapiz','sacapunta','colores'])\n",
    "print(mi_lista2)"
   ]
  },
  {
   "cell_type": "code",
   "execution_count": 21,
   "metadata": {},
   "outputs": [
    {
     "name": "stdout",
     "output_type": "stream",
     "text": [
      "[1, 2, 3, 4, 5]\n"
     ]
    }
   ],
   "source": [
    "#Hay ciertos operadores como el + que pueden ser usados sobre las listas.\n",
    "l = [1, 2, 3]\n",
    "l += [4, 5]\n",
    "print(l) #[1, 2, 3, 4, 5]"
   ]
  },
  {
   "cell_type": "code",
   "execution_count": 35,
   "metadata": {},
   "outputs": [
    {
     "data": {
      "text/plain": [
       "1"
      ]
     },
     "execution_count": 35,
     "metadata": {},
     "output_type": "execute_result"
    }
   ],
   "source": [
    "#index(): Devuelve el índice de la primera aparición de un elemento en la lista.\n",
    "#index(<obj>[,index])\n",
    "\n",
    "mi_lista.index(\"azul\")"
   ]
  },
  {
   "cell_type": "code",
   "execution_count": 37,
   "metadata": {},
   "outputs": [
    {
     "name": "stdout",
     "output_type": "stream",
     "text": [
      "1\n"
     ]
    }
   ],
   "source": [
    "l = [\"Periphery\", \"Intervals\", \"Monuments\"]\n",
    "print(l.index(\"Intervals\"))"
   ]
  },
  {
   "cell_type": "code",
   "execution_count": 38,
   "metadata": {},
   "outputs": [
    {
     "name": "stdout",
     "output_type": "stream",
     "text": [
      "5\n"
     ]
    }
   ],
   "source": [
    "#También permite introducir un parámetro opcional que representa el índice desde el que comenzar la búsqueda del objeto. \n",
    "# Es como si ignorara todo lo que hay antes de ese índice para la búsqueda, en este caso el 4.\n",
    "l = [1, 1, 1, 1, 2, 1, 4, 5]\n",
    "print(l.index(1, 4))"
   ]
  },
  {
   "cell_type": "code",
   "execution_count": 36,
   "metadata": {},
   "outputs": [
    {
     "name": "stdout",
     "output_type": "stream",
     "text": [
      "['rojo', 'azul', 'amarillo', 'negro', 'naranja', 'violeta', 'verde', 'blanco', 'azul', 'rosa', 'gris']\n"
     ]
    }
   ],
   "source": [
    "#remove(): Elimina la primera aparición de un elemento de la lista.\n",
    "#remove(<obj>)\n",
    "\n",
    "print(mi_lista )\n",
    "mi_lista.remove(\"blanco\")"
   ]
  },
  {
   "cell_type": "code",
   "execution_count": 37,
   "metadata": {},
   "outputs": [
    {
     "name": "stdout",
     "output_type": "stream",
     "text": [
      "['rojo', 'azul', 'amarillo', 'negro', 'naranja', 'violeta', 'verde', 'azul', 'rosa', 'gris']\n"
     ]
    }
   ],
   "source": [
    "print(mi_lista) #resultado despues del remove"
   ]
  },
  {
   "cell_type": "code",
   "execution_count": 32,
   "metadata": {},
   "outputs": [
    {
     "name": "stdout",
     "output_type": "stream",
     "text": [
      "[1, 2]\n"
     ]
    }
   ],
   "source": [
    "l = [1, 2, 3]\n",
    "l.remove(3)\n",
    "print(l)"
   ]
  },
  {
   "cell_type": "code",
   "execution_count": 38,
   "metadata": {},
   "outputs": [
    {
     "ename": "ValueError",
     "evalue": "'celeste' is not in list",
     "output_type": "error",
     "traceback": [
      "\u001b[1;31m---------------------------------------------------------------------------\u001b[0m",
      "\u001b[1;31mValueError\u001b[0m                                Traceback (most recent call last)",
      "Cell \u001b[1;32mIn[38], line 2\u001b[0m\n\u001b[0;32m      1\u001b[0m \u001b[39m#si queremos eliminar un elemento que no existe dará error\u001b[39;00m\n\u001b[1;32m----> 2\u001b[0m \u001b[39mprint\u001b[39m(mi_lista\u001b[39m.\u001b[39;49mindex(\u001b[39m\"\u001b[39;49m\u001b[39mceleste\u001b[39;49m\u001b[39m\"\u001b[39;49m))\n",
      "\u001b[1;31mValueError\u001b[0m: 'celeste' is not in list"
     ]
    }
   ],
   "source": [
    "#si queremos eliminar un elemento que no existe dará error\n",
    "print(mi_lista.index(\"celeste\"))"
   ]
  },
  {
   "cell_type": "code",
   "execution_count": null,
   "metadata": {},
   "outputs": [],
   "source": [
    "#.pop():  Elimina por defecto el último elemento de una lista. \n",
    "#pop(index=-1)\n",
    "\n",
    "#borra de manera definitiva el elemento, se recomienda guardar en una variable el elemento \n",
    "#que se borrará por si se quiere dar luego otro uso\n",
    "ultimo=mi_lista.pop() "
   ]
  },
  {
   "cell_type": "code",
   "execution_count": null,
   "metadata": {},
   "outputs": [
    {
     "name": "stdout",
     "output_type": "stream",
     "text": [
      "['rojo', 'azul', 'amarillo', 'negro', 'naranja', 'violeta', 'verde', 'azul', 'rosa']\n"
     ]
    }
   ],
   "source": [
    "print(mi_lista) #ya no esta el elemento gris"
   ]
  },
  {
   "cell_type": "code",
   "execution_count": null,
   "metadata": {},
   "outputs": [
    {
     "name": "stdout",
     "output_type": "stream",
     "text": [
      "gris\n"
     ]
    }
   ],
   "source": [
    "#consultamos variable ultimo\n",
    "print(ultimo) #la variable definitivamente guardo el ultimo elemento de la lista eliminado con pop"
   ]
  },
  {
   "cell_type": "code",
   "execution_count": 33,
   "metadata": {},
   "outputs": [
    {
     "name": "stdout",
     "output_type": "stream",
     "text": [
      "[1, 2]\n"
     ]
    }
   ],
   "source": [
    "l = [1, 2, 3]\n",
    "l.pop()\n",
    "print(l)"
   ]
  },
  {
   "cell_type": "code",
   "execution_count": null,
   "metadata": {},
   "outputs": [],
   "source": [
    "#Con el pop si se pasa como parámetro un índice permite borrar elementos diferentes al último.\n",
    "segundo= mi_lista.pop(1)"
   ]
  },
  {
   "cell_type": "code",
   "execution_count": null,
   "metadata": {},
   "outputs": [
    {
     "name": "stdout",
     "output_type": "stream",
     "text": [
      "['rojo', 'amarillo', 'negro', 'naranja', 'violeta', 'verde', 'azul', 'rosa']\n"
     ]
    }
   ],
   "source": [
    "print(mi_lista)"
   ]
  },
  {
   "cell_type": "code",
   "execution_count": null,
   "metadata": {},
   "outputs": [
    {
     "name": "stdout",
     "output_type": "stream",
     "text": [
      "azul\n"
     ]
    }
   ],
   "source": [
    "print(segundo)"
   ]
  },
  {
   "cell_type": "code",
   "execution_count": null,
   "metadata": {},
   "outputs": [
    {
     "name": "stdout",
     "output_type": "stream",
     "text": [
      "[22, 23, 24, 22, 23, 24, 22, 23, 24]\n"
     ]
    }
   ],
   "source": [
    "#podemos multiplicar los elementos de nuestra lista sin modificar la lista original\n",
    "lista=[22,23,24]\n",
    "print(lista*3)"
   ]
  },
  {
   "cell_type": "code",
   "execution_count": null,
   "metadata": {},
   "outputs": [
    {
     "name": "stdout",
     "output_type": "stream",
     "text": [
      "[22, 23, 24]\n"
     ]
    }
   ],
   "source": [
    "print(lista) #verificamos que efectivamente no se modifico la original"
   ]
  },
  {
   "cell_type": "code",
   "execution_count": null,
   "metadata": {},
   "outputs": [
    {
     "name": "stdout",
     "output_type": "stream",
     "text": [
      "[22, 23, 24, 22, 23, 24, 22, 23, 24]\n"
     ]
    }
   ],
   "source": [
    "#si queremos mantener la lista con los elementos duplicados se hace de esta manera\n",
    "lista_por_tres= lista*3\n",
    "print(lista_por_tres)"
   ]
  },
  {
   "cell_type": "code",
   "execution_count": null,
   "metadata": {},
   "outputs": [],
   "source": [
    "#sort(): Ordena los elementos de la lista en orden ascendente (por defecto).\n",
    "#sort()\n",
    "\n",
    "lista=[1,4,3,6,8,2]"
   ]
  },
  {
   "cell_type": "code",
   "execution_count": null,
   "metadata": {},
   "outputs": [
    {
     "name": "stdout",
     "output_type": "stream",
     "text": [
      "[1, 2, 3, 4, 6, 8]\n"
     ]
    }
   ],
   "source": [
    "lista.sort()\n",
    "print(lista)"
   ]
  },
  {
   "cell_type": "code",
   "execution_count": null,
   "metadata": {},
   "outputs": [
    {
     "name": "stdout",
     "output_type": "stream",
     "text": [
      "['rojo', 'azul', 'amarillo', 'negro', 'naranja', 'violeta', 'verde', 'blanco', 'rosa', 'gris']\n"
     ]
    }
   ],
   "source": [
    "mi_lista=['rojo','azul','amarillo','negro','naranja','violeta','verde','blanco','rosa','gris']\n",
    "print(mi_lista)"
   ]
  },
  {
   "cell_type": "code",
   "execution_count": null,
   "metadata": {},
   "outputs": [
    {
     "name": "stdout",
     "output_type": "stream",
     "text": [
      "['amarillo', 'azul', 'blanco', 'gris', 'naranja', 'negro', 'rojo', 'rosa', 'verde', 'violeta']\n"
     ]
    }
   ],
   "source": [
    "mi_lista.sort()\n",
    "print(mi_lista)"
   ]
  },
  {
   "cell_type": "code",
   "execution_count": 35,
   "metadata": {},
   "outputs": [
    {
     "name": "stdout",
     "output_type": "stream",
     "text": [
      "[1, 2, 3]\n"
     ]
    }
   ],
   "source": [
    "l = [3, 1, 2]\n",
    "l.sort() #ordena los elementos de menos a mayor por defecto.\n",
    "print(l)"
   ]
  },
  {
   "cell_type": "code",
   "execution_count": 36,
   "metadata": {},
   "outputs": [
    {
     "name": "stdout",
     "output_type": "stream",
     "text": [
      "[3, 2, 1]\n"
     ]
    }
   ],
   "source": [
    "l = [3, 1, 2]\n",
    "l.sort(reverse=True) #ordena de mayor a menor si se pasa como parámetro reverse=True.\n",
    "print(l)"
   ]
  },
  {
   "cell_type": "code",
   "execution_count": null,
   "metadata": {},
   "outputs": [
    {
     "name": "stdout",
     "output_type": "stream",
     "text": [
      "[8, 6, 4, 3, 2, 1]\n"
     ]
    }
   ],
   "source": [
    "#El método reverse() inverte el órden de la lista.\n",
    "#reverse()\n",
    "\n",
    "lista=[1,4,3,6,8,2]\n",
    "\n",
    "lista.sort(reverse=True) #ordenará de mayor a menor\n",
    "print(lista)"
   ]
  },
  {
   "cell_type": "code",
   "execution_count": 34,
   "metadata": {},
   "outputs": [
    {
     "name": "stdout",
     "output_type": "stream",
     "text": [
      "[3, 2, 1]\n"
     ]
    }
   ],
   "source": [
    "l = [1, 2, 3]\n",
    "l.reverse()\n",
    "print(l)"
   ]
  },
  {
   "cell_type": "code",
   "execution_count": null,
   "metadata": {},
   "outputs": [],
   "source": [
    "mi_lista=[\"rojo\",\"azul\",\"amarillo\",\"naranja\",\"violeta\",\"verde\"]\n",
    "mi_lista.sort(reverse=True)"
   ]
  },
  {
   "cell_type": "code",
   "execution_count": null,
   "metadata": {},
   "outputs": [
    {
     "name": "stdout",
     "output_type": "stream",
     "text": [
      "['violeta', 'verde', 'rojo', 'naranja', 'azul', 'amarillo']\n"
     ]
    }
   ],
   "source": [
    "print(mi_lista)"
   ]
  },
  {
   "cell_type": "code",
   "execution_count": 22,
   "metadata": {},
   "outputs": [
    {
     "name": "stdout",
     "output_type": "stream",
     "text": [
      "1 2 3\n"
     ]
    }
   ],
   "source": [
    "#Se puede asignar una lista con n elementos a n variables.\n",
    "l = [1, 2, 3]\n",
    "x, y, z = l\n",
    "print(x, y, z) #1 2 3"
   ]
  },
  {
   "cell_type": "code",
   "execution_count": 23,
   "metadata": {},
   "outputs": [
    {
     "name": "stdout",
     "output_type": "stream",
     "text": [
      "5\n",
      "9\n",
      "10\n"
     ]
    }
   ],
   "source": [
    "#Iterar listas\n",
    "lista = [5, 9, 10]\n",
    "for l in lista:\n",
    "    print(l)"
   ]
  },
  {
   "cell_type": "code",
   "execution_count": 24,
   "metadata": {},
   "outputs": [
    {
     "name": "stdout",
     "output_type": "stream",
     "text": [
      "0 5\n",
      "1 9\n",
      "2 10\n"
     ]
    }
   ],
   "source": [
    "#necesitamos un índice acompañado con la lista, que tome valores desde 0 hasta n-1\n",
    "lista = [5, 9, 10]\n",
    "for index, l in enumerate(lista):\n",
    "    print(index, l)"
   ]
  },
  {
   "cell_type": "code",
   "execution_count": 25,
   "metadata": {},
   "outputs": [
    {
     "name": "stdout",
     "output_type": "stream",
     "text": [
      "5 Jazz\n",
      "9 Rock\n",
      "10 Djent\n"
     ]
    }
   ],
   "source": [
    "#tenemos dos listas y las queremos iterar a la vez\n",
    "lista1 = [5, 9, 10]\n",
    "lista2 = [\"Jazz\", \"Rock\", \"Djent\"]\n",
    "for l1, l2 in zip(lista1, lista2):\n",
    "    print(l1, l2)"
   ]
  },
  {
   "cell_type": "code",
   "execution_count": 28,
   "metadata": {},
   "outputs": [
    {
     "name": "stdout",
     "output_type": "stream",
     "text": [
      "5\n",
      "9\n",
      "10\n"
     ]
    }
   ],
   "source": [
    "#Se pueden iterar las listas usando los índices y haciendo uso de len(), que nos devuelve la longitud de la lista.\n",
    "lista1 = [5, 9, 10]\n",
    "for i in range(0, len(lista)):\n",
    "    print(lista1[i])"
   ]
  },
  {
   "cell_type": "markdown",
   "metadata": {},
   "source": [
    "TUPLAS\n",
    "°Son un tipo o estructura de datos que permite almacenar datos de una manera muy parecida a las listas\n",
    "°Son inmutables, no se pueden modificar despues de su creación\n",
    "°Se definen utilizando paréntesis () y los elementos se separan por comas\n",
    "°Dependiendo de lo que queramos hacer, las tuplas pueden ser más rápidas."
   ]
  },
  {
   "cell_type": "code",
   "execution_count": null,
   "metadata": {},
   "outputs": [
    {
     "name": "stdout",
     "output_type": "stream",
     "text": [
      "(2, 4, 6, 8, 10)\n"
     ]
    }
   ],
   "source": [
    "mi_tupla=(2,4,6,8,10)\n",
    "print(mi_tupla)"
   ]
  },
  {
   "cell_type": "code",
   "execution_count": null,
   "metadata": {},
   "outputs": [
    {
     "data": {
      "text/plain": [
       "tuple"
      ]
     },
     "execution_count": 41,
     "metadata": {},
     "output_type": "execute_result"
    }
   ],
   "source": [
    "type(mi_tupla)"
   ]
  },
  {
   "cell_type": "code",
   "execution_count": 39,
   "metadata": {},
   "outputs": [
    {
     "name": "stdout",
     "output_type": "stream",
     "text": [
      "<class 'tuple'>\n",
      "(1, 2, 3)\n"
     ]
    }
   ],
   "source": [
    "#También pueden declararse sin (), separando por , todos sus elementos.\n",
    "tupla = 1, 2, 3\n",
    "print(type(tupla)) \n",
    "print(tupla)    "
   ]
  },
  {
   "cell_type": "code",
   "execution_count": 40,
   "metadata": {},
   "outputs": [
    {
     "name": "stdout",
     "output_type": "stream",
     "text": [
      "(1, 2, ('a', 'b'), 3)\n",
      "a\n"
     ]
    }
   ],
   "source": [
    "#Al igual que las listas, las tuplas también pueden ser anidadas.\n",
    "tupla = 1, 2, ('a', 'b'), 3\n",
    "print(tupla)       #(1, 2, ('a', 'b'), 3)\n",
    "print(tupla[2][0]) #a"
   ]
  },
  {
   "cell_type": "code",
   "execution_count": 41,
   "metadata": {},
   "outputs": [
    {
     "name": "stdout",
     "output_type": "stream",
     "text": [
      "<class 'tuple'>\n",
      "(1, 2, 3)\n"
     ]
    }
   ],
   "source": [
    "#también es posible convertir una lista en tupla haciendo uso de al función tuple().\n",
    "lista = [1, 2, 3]\n",
    "tupla = tuple(lista)\n",
    "print(type(tupla)) #<class 'tuple'>\n",
    "print(tupla)       #(1, 2, 3)"
   ]
  },
  {
   "cell_type": "code",
   "execution_count": 42,
   "metadata": {},
   "outputs": [
    {
     "name": "stdout",
     "output_type": "stream",
     "text": [
      "1\n",
      "2\n",
      "3\n"
     ]
    }
   ],
   "source": [
    "#Se puede iterar una tupla de la misma forma que se hacía con las listas.\n",
    "tupla = [1, 2, 3]\n",
    "for t in tupla:\n",
    "    print(t) #1, 2, 3"
   ]
  },
  {
   "cell_type": "code",
   "execution_count": 46,
   "metadata": {},
   "outputs": [
    {
     "name": "stdout",
     "output_type": "stream",
     "text": [
      "<class 'tuple'>\n"
     ]
    }
   ],
   "source": [
    "#es posible crear una tupla de un solo elemento.\n",
    "#pero se debe siempre colocar coma pára que python la reconozca como tupla no como string\n",
    "tupla = (2,)\n",
    "print(type(tupla)) #<class 'tuple'>"
   ]
  },
  {
   "cell_type": "code",
   "execution_count": 50,
   "metadata": {},
   "outputs": [
    {
     "data": {
      "text/plain": [
       "tuple"
      ]
     },
     "execution_count": 50,
     "metadata": {},
     "output_type": "execute_result"
    }
   ],
   "source": [
    "mi_tupla_unitaria=('blanco',)\n",
    "type(mi_tupla_unitaria)"
   ]
  },
  {
   "cell_type": "code",
   "execution_count": 43,
   "metadata": {},
   "outputs": [
    {
     "name": "stdout",
     "output_type": "stream",
     "text": [
      "1 2 3\n"
     ]
    }
   ],
   "source": [
    "#Se puede también asignar el valor de una tupla con n elementos a n variables.\n",
    "l = (1, 2, 3)\n",
    "x, y, z = l\n",
    "print(x, y, z) #1 2 3"
   ]
  },
  {
   "cell_type": "code",
   "execution_count": 47,
   "metadata": {},
   "outputs": [
    {
     "name": "stdout",
     "output_type": "stream",
     "text": [
      "4\n"
     ]
    }
   ],
   "source": [
    "#El método index() busca el objeto que se le pasa como parámetro y devuelve el índice en el que se ha encontrado.\n",
    "#index(<obj>[,index])\n",
    "l = [7, 7, 7, 3, 5]\n",
    "print(l.index(5)) #4"
   ]
  },
  {
   "cell_type": "code",
   "execution_count": 49,
   "metadata": {},
   "outputs": [
    {
     "name": "stdout",
     "output_type": "stream",
     "text": [
      "2\n"
     ]
    }
   ],
   "source": [
    "#El método index() también acepta un segundo parámetro opcional, que indica a partir de que índice empezar a buscar el objeto.\n",
    "l = [7, 7, 7, 3, 5]\n",
    "print(l.index(7, 2)) #2"
   ]
  },
  {
   "cell_type": "code",
   "execution_count": null,
   "metadata": {},
   "outputs": [
    {
     "name": "stdout",
     "output_type": "stream",
     "text": [
      "martes\n"
     ]
    }
   ],
   "source": [
    "tupla_dias=('lunes','martes','miercoles','jueves','viernes','sabado','domingo')\n",
    "print(tupla_dias[1]) #imprime indice 1 de la tupla"
   ]
  },
  {
   "cell_type": "code",
   "execution_count": null,
   "metadata": {},
   "outputs": [
    {
     "data": {
      "text/plain": [
       "'miercoles'"
      ]
     },
     "execution_count": 48,
     "metadata": {},
     "output_type": "execute_result"
    }
   ],
   "source": [
    "#buscar por indice\n",
    "tupla_dias=('lunes','martes','miercoles','jueves','viernes','sabado','domingo')\n",
    "tupla_dias[2]"
   ]
  },
  {
   "cell_type": "code",
   "execution_count": null,
   "metadata": {},
   "outputs": [
    {
     "data": {
      "text/plain": [
       "1"
      ]
     },
     "execution_count": 44,
     "metadata": {},
     "output_type": "execute_result"
    }
   ],
   "source": [
    "#El método count() cuenta el número de veces que el objeto pasado como parámetro se ha encontrado en la lista.\n",
    "#count(<obj>)\n",
    "\n",
    "tupla_dias.count('sabado')"
   ]
  },
  {
   "cell_type": "code",
   "execution_count": 48,
   "metadata": {},
   "outputs": [
    {
     "name": "stdout",
     "output_type": "stream",
     "text": [
      "3\n"
     ]
    }
   ],
   "source": [
    "l = [1, 1, 1, 3, 5]\n",
    "print(l.count(1)) #3"
   ]
  },
  {
   "cell_type": "code",
   "execution_count": null,
   "metadata": {},
   "outputs": [
    {
     "data": {
      "text/plain": [
       "True"
      ]
     },
     "execution_count": 43,
     "metadata": {},
     "output_type": "execute_result"
    }
   ],
   "source": [
    "#evaluar si un elemento se encuentra en la tupla\n",
    "#python reconoce diferencia de mayusculas/minusculas\n",
    "\n",
    "'jueves' in tupla_dias"
   ]
  },
  {
   "cell_type": "code",
   "execution_count": null,
   "metadata": {},
   "outputs": [
    {
     "data": {
      "text/plain": [
       "('martes', 'miercoles')"
      ]
     },
     "execution_count": 49,
     "metadata": {},
     "output_type": "execute_result"
    }
   ],
   "source": [
    "#tambien se puede hacer buqueda por rebanadas\n",
    "#recordar que el limite superior se excluye\n",
    "tupla_dias[1:3]"
   ]
  },
  {
   "cell_type": "code",
   "execution_count": null,
   "metadata": {},
   "outputs": [
    {
     "ename": "TypeError",
     "evalue": "'tuple' object does not support item assignment",
     "output_type": "error",
     "traceback": [
      "\u001b[1;31m---------------------------------------------------------------------------\u001b[0m",
      "\u001b[1;31mTypeError\u001b[0m                                 Traceback (most recent call last)",
      "Cell \u001b[1;32mIn[50], line 1\u001b[0m\n\u001b[1;32m----> 1\u001b[0m tupla_dias[\u001b[39m0\u001b[39m]\u001b[39m=\u001b[39m\u001b[39m'\u001b[39m\u001b[39mLunes\u001b[39m\u001b[39m'\u001b[39m\n",
      "\u001b[1;31mTypeError\u001b[0m: 'tuple' object does not support item assignment"
     ]
    }
   ],
   "source": [
    "#al intentar modificar la tupla da error. no son \n",
    "tupla_dias[0]='Lunes'"
   ]
  },
  {
   "cell_type": "code",
   "execution_count": null,
   "metadata": {},
   "outputs": [
    {
     "name": "stdout",
     "output_type": "stream",
     "text": [
      "(11, 22, 'Henry')\n"
     ]
    },
    {
     "data": {
      "text/plain": [
       "tuple"
      ]
     },
     "execution_count": 52,
     "metadata": {},
     "output_type": "execute_result"
    }
   ],
   "source": [
    "#Empaquetado de tuplas\n",
    "x=11\n",
    "y=22\n",
    "z='Henry'\n",
    "\n",
    "mi_tupla=x,y,z #acá asignamos las variables definidas antes para crear la tupla\n",
    "print(mi_tupla)\n",
    "type(mi_tupla)\n"
   ]
  },
  {
   "cell_type": "code",
   "execution_count": null,
   "metadata": {},
   "outputs": [
    {
     "name": "stdout",
     "output_type": "stream",
     "text": [
      "(22, 'agosto', 1979)\n",
      "22\n",
      "agosto\n",
      "1979\n"
     ]
    }
   ],
   "source": [
    "#Desempaquetado de tuplas\n",
    "date=(22,'agosto',1979) \n",
    "print(date)\n",
    "type(date)\n",
    "\n",
    "uno,dos,tres=date #a las variables separadas por coma se le asigna la tupla date que tiene 3 elementos\n",
    "print(uno)\n",
    "print(dos)\n",
    "print(tres)\n",
    "#a cada variable se le asigno un elemento de la tupla"
   ]
  },
  {
   "cell_type": "code",
   "execution_count": null,
   "metadata": {},
   "outputs": [
    {
     "ename": "ValueError",
     "evalue": "too many values to unpack (expected 2)",
     "output_type": "error",
     "traceback": [
      "\u001b[1;31m---------------------------------------------------------------------------\u001b[0m",
      "\u001b[1;31mValueError\u001b[0m                                Traceback (most recent call last)",
      "Cell \u001b[1;32mIn[55], line 1\u001b[0m\n\u001b[1;32m----> 1\u001b[0m uno,dos\u001b[39m=\u001b[39mdate\n",
      "\u001b[1;31mValueError\u001b[0m: too many values to unpack (expected 2)"
     ]
    }
   ],
   "source": [
    "uno,dos=date #da error porque deben haber tantas variables como elementos en la tupla\n",
    "#si solo quiero traerme 2 valores de la tupla,entonces para que no dé error se debe colocar guion bajo para obviar el valor 3\n",
    "#quedaría así: uno,dos,_ = date ó tambien uno,dos, *resto = date"
   ]
  },
  {
   "cell_type": "code",
   "execution_count": null,
   "metadata": {},
   "outputs": [
    {
     "ename": "ValueError",
     "evalue": "not enough values to unpack (expected 4, got 3)",
     "output_type": "error",
     "traceback": [
      "\u001b[1;31m---------------------------------------------------------------------------\u001b[0m",
      "\u001b[1;31mValueError\u001b[0m                                Traceback (most recent call last)",
      "Cell \u001b[1;32mIn[56], line 1\u001b[0m\n\u001b[1;32m----> 1\u001b[0m uno,dos,tres,cuatro\u001b[39m=\u001b[39mdate\n",
      "\u001b[1;31mValueError\u001b[0m: not enough values to unpack (expected 4, got 3)"
     ]
    }
   ],
   "source": [
    "uno,dos,tres,cuatro=date #da error porque no hay suficientes valores para desempaquetar\n"
   ]
  },
  {
   "cell_type": "code",
   "execution_count": null,
   "metadata": {},
   "outputs": [
    {
     "name": "stdout",
     "output_type": "stream",
     "text": [
      "1\n",
      "7\n",
      "9\n"
     ]
    }
   ],
   "source": [
    "#para desempaquetar solo algunos valores de la tupla\n",
    "tupla_impares=(1,3,5,7,9)\n",
    "\n",
    "primero=tupla_impares[0]\n",
    "cuarto=tupla_impares[3]\n",
    "quinto=tupla_impares[4]\n",
    "\n",
    "print(primero)\n",
    "print(cuarto)\n",
    "print(quinto)"
   ]
  },
  {
   "cell_type": "code",
   "execution_count": null,
   "metadata": {},
   "outputs": [],
   "source": [
    "#colocar guion bajo y coma para los elementos que no se quieren desempaquetar \n",
    "#y asignar variable a los que si reealmente se quieren\n",
    "_,_,_,cuarto,quinto=tupla_impares"
   ]
  },
  {
   "cell_type": "code",
   "execution_count": null,
   "metadata": {},
   "outputs": [
    {
     "name": "stdout",
     "output_type": "stream",
     "text": [
      "7\n",
      "9\n"
     ]
    }
   ],
   "source": [
    "print(cuarto)\n",
    "print(quinto)"
   ]
  },
  {
   "cell_type": "code",
   "execution_count": null,
   "metadata": {},
   "outputs": [
    {
     "name": "stdout",
     "output_type": "stream",
     "text": [
      "[1, 3, 5, 7, 9]\n"
     ]
    },
    {
     "data": {
      "text/plain": [
       "list"
      ]
     },
     "execution_count": 61,
     "metadata": {},
     "output_type": "execute_result"
    }
   ],
   "source": [
    "#convertir tupla en lista\n",
    "lista_impares=list(tupla_impares)\n",
    "print(lista_impares)\n",
    "type(lista_impares)"
   ]
  },
  {
   "cell_type": "code",
   "execution_count": null,
   "metadata": {},
   "outputs": [
    {
     "name": "stdout",
     "output_type": "stream",
     "text": [
      "(1, 3, 5, 7, 9)\n"
     ]
    },
    {
     "data": {
      "text/plain": [
       "tuple"
      ]
     },
     "execution_count": 62,
     "metadata": {},
     "output_type": "execute_result"
    }
   ],
   "source": [
    "#convertir lista en tupla\n",
    "nueva_tupla=tuple(lista_impares)\n",
    "print(nueva_tupla)\n",
    "type(nueva_tupla)"
   ]
  },
  {
   "cell_type": "markdown",
   "metadata": {},
   "source": [
    "DICCIONARIOS\n",
    "°Es una colección de elementos, donde cada uno tiene una llave key y un valor value.\n",
    "°se crean con llaves {} separando con una coma cada par key: value\n",
    "°Son dinámicos, pueden crecer o decrecer, se pueden añadir o eliminar elementos.\n",
    "°Son indexados, los elementos del diccionario son accesibles a través del key.\n",
    "°Y son anidados, un diccionario puede contener a otro diccionario en su campo value."
   ]
  },
  {
   "cell_type": "code",
   "execution_count": null,
   "metadata": {},
   "outputs": [],
   "source": [
    "primer_diccionario=dict()"
   ]
  },
  {
   "cell_type": "code",
   "execution_count": null,
   "metadata": {},
   "outputs": [
    {
     "data": {
      "text/plain": [
       "{}"
      ]
     },
     "execution_count": 65,
     "metadata": {},
     "output_type": "execute_result"
    }
   ],
   "source": [
    "primer_diccionario"
   ]
  },
  {
   "cell_type": "code",
   "execution_count": null,
   "metadata": {},
   "outputs": [
    {
     "data": {
      "text/plain": [
       "dict"
      ]
     },
     "execution_count": 66,
     "metadata": {},
     "output_type": "execute_result"
    }
   ],
   "source": [
    "type(primer_diccionario)"
   ]
  },
  {
   "cell_type": "code",
   "execution_count": 51,
   "metadata": {},
   "outputs": [
    {
     "name": "stdout",
     "output_type": "stream",
     "text": [
      "{'Nombre': 'Sara', 'Edad': 27, 'Documento': 1003882}\n"
     ]
    }
   ],
   "source": [
    "#En el siguiente ejemplo tenemos tres keys que son el Nombre, Edad, Documento.\n",
    "d1 = {\n",
    "  \"Nombre\": \"Sara\",\n",
    "  \"Edad\": 27,\n",
    "  \"Documento\": 1003882\n",
    "}\n",
    "print(d1)    #{'Nombre': 'Sara', 'Edad': 27, 'Documento': 1003882}"
   ]
  },
  {
   "cell_type": "code",
   "execution_count": 52,
   "metadata": {},
   "outputs": [
    {
     "name": "stdout",
     "output_type": "stream",
     "text": [
      "{'Nombre': 'Sara', 'Edad': 27, 'Documento': 1003882}\n"
     ]
    }
   ],
   "source": [
    "#Otra forma equivalente de crear un diccionario en Python es usando dict() e introduciendo los pares key: value entre paréntesis.\n",
    "d2 = dict([\n",
    "      ('Nombre', 'Sara'),\n",
    "      ('Edad', 27),\n",
    "      ('Documento', 1003882),\n",
    "])\n",
    "print(d2) #{'Nombre': 'Sara', 'Edad': '27', 'Documento': '1003882'}"
   ]
  },
  {
   "cell_type": "code",
   "execution_count": 55,
   "metadata": {},
   "outputs": [
    {
     "name": "stdout",
     "output_type": "stream",
     "text": [
      "{'cuatro': 4, 'cinco': 5, 'seis': 6}\n"
     ]
    }
   ],
   "source": [
    "segundo_diccionario={'cuatro':4,'cinco':5,'seis':6}\n",
    "print(segundo_diccionario)"
   ]
  },
  {
   "cell_type": "code",
   "execution_count": 53,
   "metadata": {},
   "outputs": [
    {
     "name": "stdout",
     "output_type": "stream",
     "text": [
      "{'Nombre': 'Sara', 'Edad': 27, 'Documento': 1003882}\n"
     ]
    }
   ],
   "source": [
    "#También es posible usar el constructor dict() para crear un diccionario.\n",
    "d3 = dict(Nombre='Sara',\n",
    "          Edad=27,\n",
    "          Documento=1003882)\n",
    "print(d3) #{'Nombre': 'Sara', 'Edad': 27, 'Documento': 1003882}"
   ]
  },
  {
   "cell_type": "code",
   "execution_count": 56,
   "metadata": {},
   "outputs": [
    {
     "name": "stdout",
     "output_type": "stream",
     "text": [
      "{'Colores Primarios': ['Rojo', 'Azul', 'Amarillo'], 'Colores secundarios': ['Naranja', 'Violeta', 'Verde'], 'Clave3': 10, 'Clave4': False}\n"
     ]
    }
   ],
   "source": [
    "#creamos un diccionario con diferentes tipos de valores\n",
    "#va tener 4 claves: Colores Primarios - Colores secundarios - Clave3 - Clave4\n",
    "mi_diccionario = {  'Colores Primarios': ['Rojo','Azul','Amarillo'], \n",
    "                    'Colores secundarios': ['Naranja','Violeta','Verde'], \n",
    "                    'Clave3': 10,\n",
    "                    'Clave4': False}\n",
    "print(mi_diccionario)"
   ]
  },
  {
   "cell_type": "code",
   "execution_count": 54,
   "metadata": {},
   "outputs": [
    {
     "name": "stdout",
     "output_type": "stream",
     "text": [
      "Sara\n",
      "Sara\n"
     ]
    }
   ],
   "source": [
    "#Se puede acceder a sus elementos/valores con [] o también con la función/método get()\n",
    "#get(<key>[,<default>]) \n",
    "\n",
    "print(d1['Nombre'])     #Sara\n",
    "print(d1.get('Nombre')) #Sara"
   ]
  },
  {
   "cell_type": "code",
   "execution_count": 68,
   "metadata": {},
   "outputs": [
    {
     "name": "stdout",
     "output_type": "stream",
     "text": [
      "1\n",
      "No encontrado\n"
     ]
    }
   ],
   "source": [
    "d = {'a': 1, 'b': 2}\n",
    "print(d.get('a')) #1\n",
    "print(d.get('z', 'No encontrado'))"
   ]
  },
  {
   "cell_type": "code",
   "execution_count": null,
   "metadata": {},
   "outputs": [],
   "source": [
    "#agregar elementos al diccionario\n",
    "primer_diccionario['primero']='uno'"
   ]
  },
  {
   "cell_type": "code",
   "execution_count": null,
   "metadata": {},
   "outputs": [
    {
     "data": {
      "text/plain": [
       "{'primero': 'uno'}"
      ]
     },
     "execution_count": 68,
     "metadata": {},
     "output_type": "execute_result"
    }
   ],
   "source": [
    "primer_diccionario"
   ]
  },
  {
   "cell_type": "code",
   "execution_count": null,
   "metadata": {},
   "outputs": [],
   "source": [
    "primer_diccionario['segundo']='dos'\n",
    "primer_diccionario['tercero']='tres'"
   ]
  },
  {
   "cell_type": "code",
   "execution_count": null,
   "metadata": {},
   "outputs": [
    {
     "name": "stdout",
     "output_type": "stream",
     "text": [
      "{'primero': 'uno', 'segundo': 'dos', 'tercero': 'tres'}\n"
     ]
    }
   ],
   "source": [
    "print(primer_diccionario)"
   ]
  },
  {
   "cell_type": "code",
   "execution_count": null,
   "metadata": {},
   "outputs": [
    {
     "name": "stdout",
     "output_type": "stream",
     "text": [
      "4\n"
     ]
    }
   ],
   "source": [
    "#para acceder a un valor específico usando la clave correspondiente\n",
    "print(segundo_diccionario['cuatro'])"
   ]
  },
  {
   "cell_type": "code",
   "execution_count": 57,
   "metadata": {},
   "outputs": [
    {
     "name": "stdout",
     "output_type": "stream",
     "text": [
      "{'Nombre': 'Laura', 'Edad': 27, 'Documento': 1003882}\n"
     ]
    }
   ],
   "source": [
    "#modificar un elemento basta con usar [] con el nombre del key y asignar el valor que queremos.\n",
    "d1['Nombre'] = \"Laura\"\n",
    "print(d1) #{'Nombre': Laura', 'Edad': 27, 'Documento': 1003882}"
   ]
  },
  {
   "cell_type": "code",
   "execution_count": 58,
   "metadata": {},
   "outputs": [
    {
     "name": "stdout",
     "output_type": "stream",
     "text": [
      "{'Nombre': 'Laura', 'Edad': 27, 'Documento': 1003882, 'Direccion': 'Calle 123'}\n"
     ]
    }
   ],
   "source": [
    "#Si el key al que accedemos no existe, se añade automáticamente.\n",
    "d1['Direccion'] = \"Calle 123\"\n",
    "print(d1) #{'Nombre': 'Laura', 'Edad': 27, 'Documento': 1003882, 'Direccion': 'Calle 123'}"
   ]
  },
  {
   "cell_type": "code",
   "execution_count": null,
   "metadata": {},
   "outputs": [],
   "source": [
    "#eliminar un elemento del diccionario a traves de su clave\n",
    "del mi_diccionario['Clave4']"
   ]
  },
  {
   "cell_type": "code",
   "execution_count": null,
   "metadata": {},
   "outputs": [
    {
     "name": "stdout",
     "output_type": "stream",
     "text": [
      "{'Colores Primarios': ['Rojo', 'Azul', 'Amarillo'], 'Colores secundarios': ['Naranja', 'Violeta', 'Verde'], 'Clave3': 10}\n"
     ]
    }
   ],
   "source": [
    "print(mi_diccionario)"
   ]
  },
  {
   "cell_type": "code",
   "execution_count": null,
   "metadata": {},
   "outputs": [],
   "source": [
    "#se puede usar una tupla como clave de un diccionario\n",
    "#luego a cada clave que proviene de la tupla le asignamos un valor\n",
    "mi_tupla=('Angentina','Italia','Inglaterra')\n",
    "\n",
    "mi_diccionario2={mi_tupla[0]:\"Buenos Aires\",\n",
    "                 mi_tupla[1]:\"Roma\",\n",
    "                 mi_tupla[2]:\"Londres\"}"
   ]
  },
  {
   "cell_type": "code",
   "execution_count": null,
   "metadata": {},
   "outputs": [
    {
     "name": "stdout",
     "output_type": "stream",
     "text": [
      "{'Angentina': 'Buenos Aires', 'Italia': 'Roma', 'Inglaterra': 'Londres'}\n"
     ]
    }
   ],
   "source": [
    "print(mi_diccionario2)"
   ]
  },
  {
   "cell_type": "code",
   "execution_count": null,
   "metadata": {},
   "outputs": [],
   "source": [
    "#podemos colocar una tupla dentro del diccionario\n",
    "mi_diccionario3={'clave1':'valor1',\n",
    "                 'clave2':(1,2,3,4,5)} #esto es una tupla"
   ]
  },
  {
   "cell_type": "code",
   "execution_count": null,
   "metadata": {},
   "outputs": [
    {
     "name": "stdout",
     "output_type": "stream",
     "text": [
      "{'clave1': 'valor1', 'clave2': (1, 2, 3, 4, 5)}\n"
     ]
    }
   ],
   "source": [
    "print(mi_diccionario3)"
   ]
  },
  {
   "cell_type": "code",
   "execution_count": null,
   "metadata": {},
   "outputs": [],
   "source": [
    "#podemos colocar una lista dentro del diccionario\n",
    "mi_diccionario4={'clave1':'valor1',\n",
    "                 'clave2':[6,7,8,9,10]} #esto es una lista"
   ]
  },
  {
   "cell_type": "code",
   "execution_count": null,
   "metadata": {},
   "outputs": [
    {
     "name": "stdout",
     "output_type": "stream",
     "text": [
      "{'clave1': 'valor1', 'clave2': [6, 7, 8, 9, 10]}\n"
     ]
    }
   ],
   "source": [
    "print(mi_diccionario4)"
   ]
  },
  {
   "cell_type": "code",
   "execution_count": 62,
   "metadata": {},
   "outputs": [],
   "source": [
    "#podemos colocar un diccionario dentro de otro diccionario\n",
    "mi_diccionario5={'clave1':'valor1',\n",
    "                 'clave2':{'numero':[1,2,3,4,5]}} \n",
    "#a la clave 2 se le asoció como valor un diccionario numero el cual contiene una lista de valores"
   ]
  },
  {
   "cell_type": "code",
   "execution_count": null,
   "metadata": {},
   "outputs": [
    {
     "name": "stdout",
     "output_type": "stream",
     "text": [
      "{'clave1': 'valor1', 'clave2': {'numero': [1, 2, 3, 4, 5]}}\n"
     ]
    }
   ],
   "source": [
    "print(mi_diccionario5)"
   ]
  },
  {
   "cell_type": "code",
   "execution_count": 41,
   "metadata": {},
   "outputs": [
    {
     "name": "stdout",
     "output_type": "stream",
     "text": [
      "dict_keys(['clave1', 'clave2'])\n"
     ]
    }
   ],
   "source": [
    "#para imprimir las claves del diccionario\n",
    "print(mi_diccionario5.keys())"
   ]
  },
  {
   "cell_type": "code",
   "execution_count": 59,
   "metadata": {},
   "outputs": [
    {
     "name": "stdout",
     "output_type": "stream",
     "text": [
      "Nombre\n",
      "Edad\n",
      "Documento\n",
      "Direccion\n"
     ]
    }
   ],
   "source": [
    "for x in d1:\n",
    "    print(x)"
   ]
  },
  {
   "cell_type": "code",
   "execution_count": 63,
   "metadata": {},
   "outputs": [
    {
     "name": "stdout",
     "output_type": "stream",
     "text": [
      "dict_values(['valor1', {'numero': [1, 2, 3, 4, 5]}])\n"
     ]
    }
   ],
   "source": [
    "#para imprimir los valores del diccionario\n",
    "print(mi_diccionario5.values())"
   ]
  },
  {
   "cell_type": "code",
   "execution_count": 60,
   "metadata": {},
   "outputs": [
    {
     "name": "stdout",
     "output_type": "stream",
     "text": [
      "Laura\n",
      "27\n",
      "1003882\n",
      "Calle 123\n"
     ]
    }
   ],
   "source": [
    "for x in d1:\n",
    "    print(d1[x])"
   ]
  },
  {
   "cell_type": "code",
   "execution_count": 72,
   "metadata": {},
   "outputs": [
    {
     "name": "stdout",
     "output_type": "stream",
     "text": [
      "[1, 2]\n"
     ]
    }
   ],
   "source": [
    "#El método values() devuelve una lista con todos los values o valores del diccionario.\n",
    "#values()\n",
    "d = {'a': 1, 'b': 2}\n",
    "print(list(d.values())) #[1, 2]"
   ]
  },
  {
   "cell_type": "code",
   "execution_count": 70,
   "metadata": {},
   "outputs": [
    {
     "name": "stdout",
     "output_type": "stream",
     "text": [
      "{'numero': [1, 2, 3, 4, 5]}\n"
     ]
    }
   ],
   "source": [
    "#para imprimir las claves del diccionario\n",
    "print(mi_diccionario5['clave2'])"
   ]
  },
  {
   "cell_type": "code",
   "execution_count": 71,
   "metadata": {},
   "outputs": [
    {
     "name": "stdout",
     "output_type": "stream",
     "text": [
      "dict_keys(['a', 'b'])\n",
      "['a', 'b']\n"
     ]
    }
   ],
   "source": [
    "#El método keys() devuelve una lista con todas las keys del diccionario.\n",
    "#keys()\n",
    "d = {'a': 1, 'b': 2}\n",
    "k = d.keys()\n",
    "print(k)       #dict_keys(['a', 'b'])\n",
    "print(list(k)) #['a', 'b']"
   ]
  },
  {
   "cell_type": "code",
   "execution_count": 65,
   "metadata": {},
   "outputs": [
    {
     "name": "stdout",
     "output_type": "stream",
     "text": [
      "Nombre Laura\n",
      "Edad 27\n",
      "Documento 1003882\n",
      "Direccion Calle 123\n"
     ]
    }
   ],
   "source": [
    "#El método items() devuelve una lista con los keys y values del diccionario. \n",
    "#items()\n",
    "for x, y in d1.items():\n",
    "    print(x, y)"
   ]
  },
  {
   "cell_type": "code",
   "execution_count": 69,
   "metadata": {},
   "outputs": [
    {
     "name": "stdout",
     "output_type": "stream",
     "text": [
      "dict_items([('a', 1), ('b', 2)])\n",
      "[('a', 1), ('b', 2)]\n",
      "a\n"
     ]
    }
   ],
   "source": [
    "#Si se convierte en list se puede indexar como si de una lista normal se tratase, s\n",
    "# siendo los primeros elementos las key y los segundos los value.\n",
    "d = {'a': 1, 'b': 2}\n",
    "it = d.items()\n",
    "print(it)             #dict_items([('a', 1), ('b', 2)])\n",
    "print(list(it))       #[('a', 1), ('b', 2)]\n",
    "print(list(it)[0][0]) #a"
   ]
  },
  {
   "cell_type": "code",
   "execution_count": null,
   "metadata": {},
   "outputs": [
    {
     "data": {
      "text/plain": [
       "2"
      ]
     },
     "execution_count": 94,
     "metadata": {},
     "output_type": "execute_result"
    }
   ],
   "source": [
    "#para obtener la longitud del diccionario\n",
    "len(mi_diccionario5) #mi_diccionario5 cuenta con 2 claves-valor"
   ]
  },
  {
   "cell_type": "code",
   "execution_count": 66,
   "metadata": {},
   "outputs": [
    {
     "name": "stdout",
     "output_type": "stream",
     "text": [
      "{'anidado1': {'a': 1, 'b': 2}, 'anidado2': {'a': 1, 'b': 2}}\n"
     ]
    }
   ],
   "source": [
    "#Diccionarios anidados\n",
    "#Los diccionarios pueden contener uno dentro de otro. \n",
    "# Podemos ver como los valores anidado uno y dos del diccionario d contienen a su vez otro diccionario.\n",
    "\n",
    "anidado1 = {\"a\": 1, \"b\": 2}\n",
    "anidado2 = {\"a\": 1, \"b\": 2}\n",
    "d = {\n",
    "  \"anidado1\" : anidado1,\n",
    "  \"anidado2\" : anidado2\n",
    "}\n",
    "print(d) #{'anidado1': {'a': 1, 'b': 2}, 'anidado2': {'a': 1, 'b': 2}}\n"
   ]
  },
  {
   "cell_type": "code",
   "execution_count": 67,
   "metadata": {},
   "outputs": [
    {
     "name": "stdout",
     "output_type": "stream",
     "text": [
      "{}\n"
     ]
    }
   ],
   "source": [
    "#El método clear() elimina todo el contenido del diccionario.\n",
    "#clear()\n",
    "\n",
    "d = {'a': 1, 'b': 2}\n",
    "d.clear()\n",
    "print(d) #{}"
   ]
  },
  {
   "cell_type": "code",
   "execution_count": 73,
   "metadata": {},
   "outputs": [
    {
     "name": "stdout",
     "output_type": "stream",
     "text": [
      "{'b': 2}\n"
     ]
    }
   ],
   "source": [
    "#método pop() busca y elimina la key que se pasa como parámetro y devuelve su valor asociado. \n",
    "# Daría un error si se intenta eliminar una key que no existe.\n",
    "#pop(<key>[,<default>])\n",
    "\n",
    "d = {'a': 1, 'b': 2}\n",
    "d.pop('a')\n",
    "print(d) #{'b': 2}"
   ]
  },
  {
   "cell_type": "code",
   "execution_count": null,
   "metadata": {},
   "outputs": [],
   "source": [
    "#También se puede pasar un segundo parámetro que es el valor a devolver si la key no se ha encontrado. \n",
    "# En este caso si no se encuentra no habría error.\n",
    "\n",
    "d = {'a': 1, 'b': 2}\n",
    "d.pop('c', -1)\n",
    "print(d) #{'a': 1, 'b': 2}"
   ]
  },
  {
   "cell_type": "code",
   "execution_count": 74,
   "metadata": {},
   "outputs": [
    {
     "name": "stdout",
     "output_type": "stream",
     "text": [
      "{'a': 1}\n"
     ]
    }
   ],
   "source": [
    "#método popitem() elimina de manera aleatoria un elemento del diccionario.\n",
    "#popitem()\n",
    "\n",
    "d = {'a': 1, 'b': 2}\n",
    "d.popitem()\n",
    "print(d) #{'a': 1}"
   ]
  },
  {
   "cell_type": "code",
   "execution_count": 75,
   "metadata": {},
   "outputs": [
    {
     "name": "stdout",
     "output_type": "stream",
     "text": [
      "{'a': 0, 'b': 2, 'd': 400}\n"
     ]
    }
   ],
   "source": [
    "#método update() se llama sobre un diccionario y tiene como entrada otro diccionario. \n",
    "# Los value son actualizados y si alguna key del nuevo diccionario no esta, es añadida.\n",
    "#update(<obj>)\n",
    "d1 = {'a': 1, 'b': 2}\n",
    "d2 = {'a': 0, 'd': 400}\n",
    "d1.update(d2)\n",
    "print(d1)"
   ]
  }
 ],
 "metadata": {
  "kernelspec": {
   "display_name": "base",
   "language": "python",
   "name": "python3"
  },
  "language_info": {
   "codemirror_mode": {
    "name": "ipython",
    "version": 3
   },
   "file_extension": ".py",
   "mimetype": "text/x-python",
   "name": "python",
   "nbconvert_exporter": "python",
   "pygments_lexer": "ipython3",
   "version": "3.10.9"
  },
  "orig_nbformat": 4
 },
 "nbformat": 4,
 "nbformat_minor": 2
}
