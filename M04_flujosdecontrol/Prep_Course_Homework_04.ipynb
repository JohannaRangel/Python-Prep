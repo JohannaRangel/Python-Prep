{
 "cells": [
  {
   "attachments": {},
   "cell_type": "markdown",
   "metadata": {},
   "source": [
    "## Flujos de Control"
   ]
  },
  {
   "attachments": {},
   "cell_type": "markdown",
   "metadata": {},
   "source": [
    "1) Crear una variable que contenga un elemento del conjunto de números enteros y luego imprimir por pantalla si es mayor o menor a cero"
   ]
  },
  {
   "cell_type": "code",
   "execution_count": 59,
   "metadata": {},
   "outputs": [
    {
     "name": "stdout",
     "output_type": "stream",
     "text": [
      "El número -7 es menor a cero\n"
     ]
    }
   ],
   "source": [
    "num=-7\n",
    "\n",
    "if num == 0:\n",
    "    print('El número ingresado es igual a cero')\n",
    "elif num > 0:\n",
    "    print('El número',num, 'es mayor a cero')\n",
    "else:\n",
    "    print('El número',num, 'es menor a cero')\n"
   ]
  },
  {
   "attachments": {},
   "cell_type": "markdown",
   "metadata": {},
   "source": [
    "2) Crear dos variables y un condicional que informe si son del mismo tipo de dato"
   ]
  },
  {
   "cell_type": "code",
   "execution_count": 66,
   "metadata": {},
   "outputs": [
    {
     "name": "stdout",
     "output_type": "stream",
     "text": [
      "Las variables son de diferente tipo de dato\n",
      "\"var1\" es del tipo de dato <class 'str'> y, \"var2\" es del tipo <class 'bool'>\n"
     ]
    }
   ],
   "source": [
    "var1= 'Hola Teacher'\n",
    "var2= True\n",
    "\n",
    "if type(var1) == type(var2):\n",
    "    print('Las variables comparadas son del mismo tipo de dato.')\n",
    "else:\n",
    "    print('Las variables son de diferente tipo de dato')\n",
    "    print('\"var1\" es del tipo de dato',type(var1),'y, \"var2\" es del tipo',type(var2))\n"
   ]
  },
  {
   "attachments": {},
   "cell_type": "markdown",
   "metadata": {},
   "source": [
    "3) Para los valores enteros del 1 al 20, imprimir por pantalla si es par o impar"
   ]
  },
  {
   "cell_type": "code",
   "execution_count": 68,
   "metadata": {},
   "outputs": [
    {
     "name": "stdout",
     "output_type": "stream",
     "text": [
      "El número 1 es impar\n",
      "El número 2 es par\n",
      "El número 3 es impar\n",
      "El número 4 es par\n",
      "El número 5 es impar\n",
      "El número 6 es par\n",
      "El número 7 es impar\n",
      "El número 8 es par\n",
      "El número 9 es impar\n",
      "El número 10 es par\n",
      "El número 11 es impar\n",
      "El número 12 es par\n",
      "El número 13 es impar\n",
      "El número 14 es par\n",
      "El número 15 es impar\n",
      "El número 16 es par\n",
      "El número 17 es impar\n",
      "El número 18 es par\n",
      "El número 19 es impar\n",
      "El número 20 es par\n"
     ]
    }
   ],
   "source": [
    "for i in range(1,21):\n",
    "    if i%2 == 0:\n",
    "        print('El número',i,'es par')\n",
    "    else:\n",
    "        print('El número',i,'es impar')"
   ]
  },
  {
   "attachments": {},
   "cell_type": "markdown",
   "metadata": {},
   "source": [
    "4) En un ciclo for mostrar para los valores entre 0 y 5 el resultado de elevarlo a la potencia igual a 3"
   ]
  },
  {
   "cell_type": "code",
   "execution_count": 69,
   "metadata": {},
   "outputs": [
    {
     "name": "stdout",
     "output_type": "stream",
     "text": [
      "0 elevado a 3 = 0\n",
      "1 elevado a 3 = 1\n",
      "2 elevado a 3 = 8\n",
      "3 elevado a 3 = 27\n",
      "4 elevado a 3 = 64\n",
      "5 elevado a 3 = 125\n"
     ]
    }
   ],
   "source": [
    "for i in range(0,6):\n",
    "    res=i**3\n",
    "    print(i,'elevado a 3 =',res)"
   ]
  },
  {
   "attachments": {},
   "cell_type": "markdown",
   "metadata": {},
   "source": [
    "5) Crear una variable que contenga un número entero y realizar un ciclo for la misma cantidad de ciclos"
   ]
  },
  {
   "cell_type": "code",
   "execution_count": 30,
   "metadata": {},
   "outputs": [
    {
     "name": "stdout",
     "output_type": "stream",
     "text": [
      "ciclo 1\n",
      "ciclo 2\n",
      "ciclo 3\n"
     ]
    }
   ],
   "source": [
    "num=3\n",
    "\n",
    "for i in range(1,num+1):\n",
    "    print('ciclo', i)"
   ]
  },
  {
   "attachments": {},
   "cell_type": "markdown",
   "metadata": {},
   "source": [
    "6) Utilizar un ciclo while para realizar el factorial de un número guardado en una variable, sólo si la variable contiene un número entero mayor a 0"
   ]
  },
  {
   "cell_type": "code",
   "execution_count": 77,
   "metadata": {},
   "outputs": [
    {
     "name": "stdout",
     "output_type": "stream",
     "text": [
      "Factorial del numero 6 es: 720\n"
     ]
    }
   ],
   "source": [
    "num=6\n",
    "var=num\n",
    "\n",
    "if (type(num) == int) and (num > 0):\n",
    "    n = 1\n",
    "    \n",
    "    while num >= 1:\n",
    "        n = n * num\n",
    "        num = num - 1\n",
    "    print('Factorial del numero', var, 'es:', n)  \n",
    "else:\n",
    "    print('El valor suministrado fue:', var)\n",
    "    print('Debe ingresar un número entero mayor a cero')    \n",
    "    \n",
    "\n",
    "\n"
   ]
  },
  {
   "attachments": {},
   "cell_type": "markdown",
   "metadata": {},
   "source": [
    "7) Crear un ciclo for dentro de un ciclo while"
   ]
  },
  {
   "cell_type": "code",
   "execution_count": 47,
   "metadata": {},
   "outputs": [
    {
     "name": "stdout",
     "output_type": "stream",
     "text": [
      "a\n",
      "o\n"
     ]
    }
   ],
   "source": [
    "#Se recibe una palabra\n",
    "#El ciclo WHILE verifica que el valor recibido sea STRING\n",
    "#El ciclo FOR imprime todas las vocales minúsculas que contiene la palabra recibida.\n",
    "\n",
    "palabra='mano'\n",
    "vocales=['a','e','i','o','u']\n",
    "\n",
    "while type(palabra) == str:\n",
    "    for letra in palabra:\n",
    "        if letra in vocales:\n",
    "            print(letra)   \n",
    "    if letra not in vocales:             \n",
    "        print('Esta palabra no contiene vocales minúsculas')\n",
    "    break\n",
    "\n",
    "if type(palabra) != str:\n",
    "    print('El valor ingresado no es de tipo string.')\n",
    "    print('WARNING: Se esperaba una palabra.')"
   ]
  },
  {
   "attachments": {},
   "cell_type": "markdown",
   "metadata": {},
   "source": [
    "8) Crear un ciclo while dentro de un ciclo for"
   ]
  },
  {
   "cell_type": "code",
   "execution_count": 154,
   "metadata": {},
   "outputs": [
    {
     "name": "stdout",
     "output_type": "stream",
     "text": [
      "La palabra EscUela contiene 4 vocales y 3 consonantes\n"
     ]
    }
   ],
   "source": [
    "#Se recibe palabra, se valida que sea tipo STRING\n",
    "#El ciclo FOR recorre cada letra de la palabra\n",
    "#El ciclo WHILE cuenta el número de vocales/consonantes que contiene la palabra recibida.\n",
    "\n",
    "palabra='EscUela'\n",
    "vocales=['a','A','e','E','i','I','o','O','u','U']\n",
    "\n",
    "if type(palabra) == str:\n",
    "    vocal=0\n",
    "    consonante=0\n",
    "    for letra in palabra:\n",
    "        while letra in vocales:\n",
    "            vocal = vocal+1  \n",
    "            break\n",
    "        else:\n",
    "            consonante= consonante+1\n",
    "    print(f'La palabra {palabra} contiene {vocal} vocales y {consonante} consonantes')\n",
    "else:\n",
    "    print('El valor ingresado no es de tipo string.')\n",
    "    print('WARNING: Se esperaba una palabra.')\n",
    "\n"
   ]
  },
  {
   "attachments": {},
   "cell_type": "markdown",
   "metadata": {},
   "source": [
    "9) Imprimir los números primos existentes entre 0 y 30"
   ]
  },
  {
   "cell_type": "code",
   "execution_count": 295,
   "metadata": {},
   "outputs": [
    {
     "name": "stdout",
     "output_type": "stream",
     "text": [
      "El nÚmero 2 es primo\n",
      "El nÚmero 3 es primo\n",
      "El nÚmero 5 es primo\n",
      "El nÚmero 7 es primo\n",
      "El nÚmero 11 es primo\n",
      "El nÚmero 13 es primo\n",
      "El nÚmero 17 es primo\n",
      "El nÚmero 19 es primo\n",
      "El nÚmero 23 es primo\n",
      "El nÚmero 29 es primo\n",
      "ciclos_SIN_break 378\n"
     ]
    }
   ],
   "source": [
    "#Número primo:Es un número natural, mayor que 1 y divisible por sí mismo y por 1\n",
    "\n",
    "ciclos_SIN_break=0\n",
    "\n",
    "for numero in range(2,30): #Inicio los rango en 2 descartando de una vez el 0 y 1 \n",
    "  valor= range(2,numero)\n",
    "  contador = 0\n",
    "  for n in valor:\n",
    "    ciclos_SIN_break +=1\n",
    "    if numero % n == 0: #Evalúo el resto, si es 0 NO es un número primo \n",
    "      contador +=1\n",
    "  if contador <= 0 :\n",
    "    print(f\"El nÚmero {numero} es primo\")\n",
    "print('ciclos_SIN_break',ciclos_SIN_break)\n"
   ]
  },
  {
   "attachments": {},
   "cell_type": "markdown",
   "metadata": {},
   "source": [
    "10) ¿Se puede mejorar el proceso del punto 9? Utilizar las sentencias break y/ó continue para tal fin"
   ]
  },
  {
   "cell_type": "code",
   "execution_count": 293,
   "metadata": {},
   "outputs": [
    {
     "name": "stdout",
     "output_type": "stream",
     "text": [
      "El nÚmero 2 es primo\n",
      "El nÚmero 3 es primo\n",
      "El nÚmero 5 es primo\n",
      "El nÚmero 7 es primo\n",
      "El nÚmero 11 es primo\n",
      "El nÚmero 13 es primo\n",
      "El nÚmero 17 es primo\n",
      "El nÚmero 19 es primo\n",
      "El nÚmero 23 es primo\n",
      "El nÚmero 29 es primo\n",
      "ciclos_CON_break 135\n"
     ]
    }
   ],
   "source": [
    "#Si es posible mejorar el proceso del punto 9\n",
    "\n",
    "ciclos_CON_break=0\n",
    "numero=2\n",
    "primo = True\n",
    "\n",
    "while numero <=30: \n",
    "  for n in range(2,numero):\n",
    "    ciclos_CON_break +=1\n",
    "    if numero % n == 0: #Evalúo el resto, si es 0 NO es un número primo. Termino la ejecución del bucle \n",
    "      primo = False\n",
    "      break\n",
    "  if primo == True:\n",
    "    print(f\"El nÚmero {numero} es primo\")\n",
    "  else:\n",
    "    primo = True\n",
    "  numero +=1      \n",
    "print('ciclos_CON_break',ciclos_CON_break)"
   ]
  },
  {
   "attachments": {},
   "cell_type": "markdown",
   "metadata": {},
   "source": [
    "11) En los puntos 9 y 10, se diseño un código que encuentra números primos y además se lo optimizó. ¿Es posible saber en qué medida se optimizó?"
   ]
  },
  {
   "cell_type": "code",
   "execution_count": 288,
   "metadata": {},
   "outputs": [
    {
     "name": "stdout",
     "output_type": "stream",
     "text": [
      "Aplicando la optimización se evitaron 243 iteraciones en el bucle\n",
      "Se optimizó en un 0.35714285714285715 % de ciclos aplicando break\n"
     ]
    }
   ],
   "source": [
    "#Si fue posible optimizar\n",
    "\n",
    "#Punto 9 \n",
    "ciclos_SIN_break = 378\n",
    "#Punto 10 \n",
    "ciclos_CON_break = 135\n",
    "print('Aplicando la optimización se evitaron',ciclos_SIN_break-ciclos_CON_break,'iteraciones en el bucle')\n",
    "print('Se optimizó en un',ciclos_CON_break/ciclos_SIN_break,'% de ciclos aplicando break')"
   ]
  },
  {
   "attachments": {},
   "cell_type": "markdown",
   "metadata": {},
   "source": [
    "12) Aplicando continue, armar un ciclo while que solo imprima los valores divisibles por 12, dentro del rango de números de 100 a 300"
   ]
  },
  {
   "cell_type": "code",
   "execution_count": 17,
   "metadata": {},
   "outputs": [
    {
     "name": "stdout",
     "output_type": "stream",
     "text": [
      "El número 108 es divisible por 12\n",
      "El número 120 es divisible por 12\n",
      "El número 132 es divisible por 12\n",
      "El número 144 es divisible por 12\n",
      "El número 156 es divisible por 12\n",
      "El número 168 es divisible por 12\n",
      "El número 180 es divisible por 12\n",
      "El número 192 es divisible por 12\n",
      "El número 204 es divisible por 12\n",
      "El número 216 es divisible por 12\n",
      "El número 228 es divisible por 12\n",
      "El número 240 es divisible por 12\n",
      "El número 252 es divisible por 12\n",
      "El número 264 es divisible por 12\n",
      "El número 276 es divisible por 12\n",
      "El número 288 es divisible por 12\n",
      "El número 300 es divisible por 12\n"
     ]
    }
   ],
   "source": [
    "num=99\n",
    "div=12\n",
    "\n",
    "while num < 300:\n",
    "    num +=1\n",
    "    if num%div != 0:\n",
    "        continue\n",
    "    print('El número',num,'es divisible por', div)"
   ]
  },
  {
   "attachments": {},
   "cell_type": "markdown",
   "metadata": {},
   "source": [
    "13) Utilizar la función **input()** que permite hacer ingresos por teclado, para encontrar números primos y dar la opción al usario de buscar el siguiente"
   ]
  },
  {
   "cell_type": "code",
   "execution_count": 113,
   "metadata": {},
   "outputs": [
    {
     "name": "stdout",
     "output_type": "stream",
     "text": [
      "El número 3 es primo\n",
      "El número 6 no es primo\n",
      "Se finaliza el proceso\n"
     ]
    }
   ],
   "source": [
    "#Se utilizó la función input. el valor ingresado se convierte en entero y se evalua si es primo o no\n",
    "\n",
    "\n",
    "prompt = \"\\n¿Qué número quieres saber si es primo?\"\n",
    "prompt += \"\\nEscribe el número 0 para finalizar\"\n",
    "\n",
    "activo = True\n",
    "while activo:\n",
    "    numero = int(input(prompt))\n",
    "    if numero == 0:\n",
    "        activo: False\n",
    "        print('Se finaliza el proceso')\n",
    "        break\n",
    "    else:\n",
    "        valor= range(2,numero)\n",
    "        contador = 0\n",
    "        for n in valor:\n",
    "            if numero % n == 0:\n",
    "                contador +=1\n",
    "                break\n",
    "        if contador > 0 :\n",
    "            print('El número',numero,'no es primo')\n",
    "        else:\n",
    "            print('El número',numero,'es primo')"
   ]
  },
  {
   "attachments": {},
   "cell_type": "markdown",
   "metadata": {},
   "source": [
    "14) Crear un ciclo while que encuentre dentro del rango de 100 a 300 el primer número divisible por 3 y además múltiplo de 6"
   ]
  },
  {
   "cell_type": "code",
   "execution_count": 134,
   "metadata": {},
   "outputs": [
    {
     "name": "stdout",
     "output_type": "stream",
     "text": [
      "El número 102 es divisible por 3 y además múltiplo de 6\n"
     ]
    }
   ],
   "source": [
    "#un número es divisible entre otro siempre y cuando su división sea exacta\n",
    "#un número es múltiplo de 6 cuando es el resultado de multiplicar 6 por otro número\n",
    "\n",
    "num = 100\n",
    "d=3\n",
    "m=6\n",
    "while(num<=300):\n",
    "    if (num % d == 0) and (num % m == 0):\n",
    "        print('El número',num,'es divisible por',d,'y además múltiplo de',m)\n",
    "        break\n",
    "    num += 1\n"
   ]
  }
 ],
 "metadata": {
  "interpreter": {
   "hash": "c85384e4cb51c8b72350f3a8712cc8351fdc3955e32a27f9b60c6242ab125f01"
  },
  "kernelspec": {
   "display_name": "Python 3 (ipykernel)",
   "language": "python",
   "name": "python3"
  },
  "language_info": {
   "codemirror_mode": {
    "name": "ipython",
    "version": 3
   },
   "file_extension": ".py",
   "mimetype": "text/x-python",
   "name": "python",
   "nbconvert_exporter": "python",
   "pygments_lexer": "ipython3",
   "version": "3.10.9"
  }
 },
 "nbformat": 4,
 "nbformat_minor": 4
}
