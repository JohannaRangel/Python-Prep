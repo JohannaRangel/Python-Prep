{
 "cells": [
  {
   "cell_type": "code",
   "execution_count": null,
   "metadata": {},
   "outputs": [],
   "source": [
    "#CONDICIONALES"
   ]
  },
  {
   "cell_type": "code",
   "execution_count": 1,
   "metadata": {},
   "outputs": [
    {
     "name": "stdout",
     "output_type": "stream",
     "text": [
      "Soy menor\n"
     ]
    }
   ],
   "source": [
    "num=5\n",
    "if num>10:\n",
    "    print('Soy mayor')\n",
    "elif num<10:\n",
    "    print('Soy menor')\n",
    "else:\n",
    "    print('Soy igual')\n",
    "\n",
    "#Solo se va a ejecutar la setencia que sea verdadera. "
   ]
  },
  {
   "cell_type": "code",
   "execution_count": 2,
   "metadata": {},
   "outputs": [
    {
     "name": "stdout",
     "output_type": "stream",
     "text": [
      "Soy menor que 10 y como estoy primero me voy a ejecutar\n"
     ]
    }
   ],
   "source": [
    "num=5\n",
    "if num>10:\n",
    "    print('Soy mayor')\n",
    "elif num<10:\n",
    "    print('Soy menor que 10 y como estoy primero me voy a ejecutar')\n",
    "elif num<7:\n",
    "    print('Soy tambien menor')\n",
    "else:\n",
    "    print('Soy igual')\n",
    "\n",
    "#al ser programción secuencial, una vez que encuentre la primera opción verdadera \n",
    "#no va seguir ejecutandose por mas que las otras opciones tambien sean verdaderas"
   ]
  },
  {
   "cell_type": "code",
   "execution_count": null,
   "metadata": {},
   "outputs": [],
   "source": [
    "###BUCLES###"
   ]
  },
  {
   "cell_type": "code",
   "execution_count": 3,
   "metadata": {},
   "outputs": [
    {
     "name": "stdout",
     "output_type": "stream",
     "text": [
      "2\n",
      "3\n",
      "4\n",
      "5\n",
      "6\n"
     ]
    }
   ],
   "source": [
    "#FOR\n",
    "\n",
    "numeros=[1,2,3,4,5]\n",
    "for num in numeros:\n",
    "    suma=num+1\n",
    "    print(suma)\n"
   ]
  },
  {
   "cell_type": "code",
   "execution_count": 5,
   "metadata": {},
   "outputs": [
    {
     "name": "stdout",
     "output_type": "stream",
     "text": [
      "2\n",
      "3\n",
      "4\n",
      "5\n",
      "6\n"
     ]
    }
   ],
   "source": [
    "#usando rango de numeros (el último valor no se va tomar)\n",
    "for i in range(1,6): #va iterar de 1 hasta el 5\n",
    "    suma=i+1\n",
    "    print(suma)"
   ]
  },
  {
   "cell_type": "code",
   "execution_count": 6,
   "metadata": {},
   "outputs": [
    {
     "name": "stdout",
     "output_type": "stream",
     "text": [
      "variable de iteración:  1 Resultado= 2\n",
      "variable de iteración:  2 Resultado= 3\n",
      "variable de iteración:  3 Resultado= 4\n",
      "variable de iteración:  4 Resultado= 5\n",
      "variable de iteración:  5 Resultado= 6\n"
     ]
    }
   ],
   "source": [
    "#ver con que variable de iteracion se esta trabajando\n",
    "for i in range(1,6):\n",
    "    suma=i+1\n",
    "    print(\"variable de iteración: \",i,\"Resultado=\", suma)"
   ]
  },
  {
   "cell_type": "code",
   "execution_count": 7,
   "metadata": {},
   "outputs": [
    {
     "name": "stdout",
     "output_type": "stream",
     "text": [
      "num 1\n",
      "num 2\n",
      "num 3\n",
      "num 4\n",
      "num 5\n"
     ]
    }
   ],
   "source": [
    "#WHILE\n",
    "\n",
    "num=1\n",
    "while num<6:\n",
    "    print(\"num\",num)\n",
    "    num=num+1"
   ]
  },
  {
   "cell_type": "code",
   "execution_count": null,
   "metadata": {},
   "outputs": [],
   "source": [
    "#bucle infinito --> (Control + C) ó botón interrup"
   ]
  },
  {
   "cell_type": "code",
   "execution_count": 8,
   "metadata": {},
   "outputs": [
    {
     "name": "stdout",
     "output_type": "stream",
     "text": [
      "0\n"
     ]
    }
   ],
   "source": [
    "#BREAK\n",
    "\n",
    "for i in range(5):\n",
    "    print(i)\n",
    "    break\n"
   ]
  },
  {
   "cell_type": "code",
   "execution_count": 9,
   "metadata": {},
   "outputs": [
    {
     "name": "stdout",
     "output_type": "stream",
     "text": [
      "P\n",
      "y\n",
      "t\n",
      "Se encontró la h\n"
     ]
    }
   ],
   "source": [
    "cadena = 'Python'\n",
    "for letra in cadena:\n",
    "    if letra == 'h':\n",
    "        print(\"Se encontró la h\")\n",
    "        break\n",
    "    print(letra)"
   ]
  },
  {
   "cell_type": "code",
   "execution_count": 11,
   "metadata": {},
   "outputs": [
    {
     "name": "stdout",
     "output_type": "stream",
     "text": [
      "4\n",
      "3\n",
      "Fin del bucle\n"
     ]
    }
   ],
   "source": [
    "x = 5\n",
    "while True:\n",
    "    x -= 1\n",
    "    print(x)\n",
    "    if x == 3:\n",
    "        break\n",
    "print(\"Fin del bucle\")"
   ]
  },
  {
   "cell_type": "code",
   "execution_count": 12,
   "metadata": {},
   "outputs": [
    {
     "name": "stdout",
     "output_type": "stream",
     "text": [
      "y\n",
      "t\n",
      "h\n",
      "o\n",
      "n\n"
     ]
    }
   ],
   "source": [
    "#CONTINUE\n",
    "\n",
    "cadena = 'Python'\n",
    "for letra in cadena:\n",
    "    if letra == 'P':\n",
    "        continue #se ejecuta, salta la proxima instruccion y continua con el bucle\n",
    "    print(letra)"
   ]
  },
  {
   "cell_type": "markdown",
   "metadata": {},
   "source": [
    "# Bucles: while, for, break, continue\n",
    "El while ejecuta su sección de código mientras se cumpla una determinada condición.\n",
    "\n",
    "x = 0\n",
    "while x < 3:\n",
    "    print(x)\n",
    "    x += 1\n",
    "\n",
    "# Salida: 0, 1, 2\n",
    "El for permite iterar clases iterables, ejecutando la sección de código tantas veces como elementos tiene el iterable.\n",
    "\n",
    "for i in range(3):\n",
    "    print(i)\n",
    "\n",
    "# Salida: 0, 1, 2\n",
    "El continue salta hasta el final del bloque, dejando sin ejecutar lo restante, pero continúa en la siguiente iteración.\n",
    "\n",
    "for i in range(3):\n",
    "    if i == 1:\n",
    "        continue\n",
    "    print(i)\n",
    "\n",
    "# Salida: 0, 2\n",
    "Por último, el break rompe la ejecución del bucle, saliendo del mismo.\n",
    "\n",
    "x = 0\n",
    "while True:\n",
    "    print(x)\n",
    "    if x == 2:\n",
    "        break\n",
    "    x += 1\n",
    "\n",
    "# Salida: 0, 1, 2\n",
    "\n",
    "\n",
    "\n",
    "# None se devuelve por defecto cuando una función no cuenta con un return.\n",
    "\n",
    "def mi_funcion():\n",
    "    pass\n",
    "\n",
    "print(mi_funcion())\n",
    "# Salida: None\n",
    "\n",
    "'''\n",
    "El uso del while nos permite ejecutar una sección de código repetidas veces.\n",
    "El código se ejecutará mientras una condición determinada se cumpla. Cuando se deje de cumplir, \n",
    "se saldrá del bucle y se continuará la ejecución normal. Llamaremos iteración a una ejecución \n",
    "completa del bloque de código.\n",
    "\n",
    "El for es un tipo de bucle, parecido al while pero con ciertas diferencias. \n",
    "La principal es que el número de iteraciones de un for esta definido de antemano, \n",
    "mientras que en un while no. La diferencia principal con respecto al while es en la condición. \n",
    "Mientras que en el while la condición era evaluada en cada iteración para decidir \n",
    "si volver a ejecutar o no el código, en el for no existe tal condición, sino un iterable que \n",
    "define las veces que se ejecutará el código. \n",
    "\n",
    "Cabe destacar que existe dos tipos de bucles, los que tienen un número de iteraciones no definidas, \n",
    "y los que tienen un número de iteraciones definidas. \n",
    "El while estaría dentro del primer tipo. Los for, se engloban en el segundo.\n",
    "'''\n",
    "\n",
    "# Else y while\n",
    "La sección de código que se encuentra dentro del else, se ejecutará cuando el bucle termine, \n",
    "pero solo si lo hace “por razones naturales”. Es decir, si el bucle termina porque la condición \n",
    "se deja de cumplir, y no porque se ha hecho uso del break.\n",
    "\n",
    "x = 5\n",
    "while x > 0:\n",
    "    x -=1\n",
    "    print(x) #4,3,2,1,0\n",
    "else:\n",
    "    print(\"El bucle ha finalizado\")\n",
    "\n",
    "Podemos ver como si el bucle termina por el break, el print() no se ejecutará. \n",
    "Por lo tanto, se podría decir que si no hay realmente ninguna sentencia break dentro del bucle, \n",
    "tal vez no tenga mucho sentido el uso del else, ya que un bloque de código fuera del bucle cumplirá \n",
    "con la misma funcionalidad.\n",
    "\n",
    "x = 5\n",
    "while True:\n",
    "    x -= 1\n",
    "    print(x) #4, 3, 2, 1, 0\n",
    "    if x == 0:\n",
    "        break\n",
    "else:\n",
    "    # El print no se ejecuta\n",
    "    print(\"Fin del bucle\")\n",
    "\n",
    "\n",
    "\n",
    "# Sentencia break\n",
    "La sentencia break nos permite alterar el comportamiento de los bucles while y for. \n",
    "Concretamente, permite terminar con la ejecución del bucle.\n",
    "\n",
    "cadena = 'Python'\n",
    "for letra in cadena:\n",
    "    if letra == 'h':\n",
    "        print(\"Se encontró la h\")\n",
    "        break\n",
    "    print(letra)\n",
    "\n",
    "# Salida:\n",
    "# P\n",
    "# y\n",
    "# t\n",
    "# Se encontró la h\n",
    "\n",
    "x = 5\n",
    "while True:\n",
    "    x -= 1\n",
    "    print(x)\n",
    "    if x == 0:\n",
    "        break\n",
    "    print(\"Fin del bucle\")\n",
    "\n",
    "# 4, 3, 2, 1, 0\n",
    "Por norma general, y salvo casos muy concretos, si ves un while True, \n",
    "es probable que haya un break dentro del bucle.\n",
    "\n",
    "\n",
    "# Sentencia continue\n",
    "se salta todo el código restante en la iteración actual y \n",
    "vuelve al principio en el caso de que aún queden iteraciones por completar.\n",
    "\n",
    "cadena = 'Python'\n",
    "for letra in cadena:\n",
    "    if letra == 'P':\n",
    "        continue\n",
    "    print(letra)\n",
    "# Salida:\n",
    "# y\n",
    "# t\n",
    "# h\n",
    "# o\n",
    "# n\n",
    "\n",
    "La diferencia entre el break y continue es que el continue no rompe el bucle, \n",
    "si no que pasa a la siguiente iteración saltando el código pendiente."
   ]
  }
 ],
 "metadata": {
  "kernelspec": {
   "display_name": "base",
   "language": "python",
   "name": "python3"
  },
  "language_info": {
   "codemirror_mode": {
    "name": "ipython",
    "version": 3
   },
   "file_extension": ".py",
   "mimetype": "text/x-python",
   "name": "python",
   "nbconvert_exporter": "python",
   "pygments_lexer": "ipython3",
   "version": "3.10.9"
  },
  "orig_nbformat": 4
 },
 "nbformat": 4,
 "nbformat_minor": 2
}
