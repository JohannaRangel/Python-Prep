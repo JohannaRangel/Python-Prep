{
 "cells": [
  {
   "cell_type": "code",
   "execution_count": null,
   "metadata": {},
   "outputs": [],
   "source": [
    "#CONDICIONALES"
   ]
  },
  {
   "cell_type": "code",
   "execution_count": 1,
   "metadata": {},
   "outputs": [
    {
     "name": "stdout",
     "output_type": "stream",
     "text": [
      "Soy menor\n"
     ]
    }
   ],
   "source": [
    "num=5\n",
    "if num>10:\n",
    "    print('Soy mayor')\n",
    "elif num<10:\n",
    "    print('Soy menor')\n",
    "else:\n",
    "    print('Soy igual')\n",
    "\n",
    "#Solo se va a ejecutar la setencia que sea verdadera. "
   ]
  },
  {
   "cell_type": "code",
   "execution_count": 2,
   "metadata": {},
   "outputs": [
    {
     "name": "stdout",
     "output_type": "stream",
     "text": [
      "Soy menor que 10 y como estoy primero me voy a ejecutar\n"
     ]
    }
   ],
   "source": [
    "num=5\n",
    "if num>10:\n",
    "    print('Soy mayor')\n",
    "elif num<10:\n",
    "    print('Soy menor que 10 y como estoy primero me voy a ejecutar')\n",
    "elif num<7:\n",
    "    print('Soy tambien menor')\n",
    "else:\n",
    "    print('Soy igual')\n",
    "\n",
    "#al ser programción secuencial, una vez que encuentre la primera opción verdadera \n",
    "#no va seguir ejecutandose por mas que las otras opciones tambien sean verdaderas"
   ]
  },
  {
   "cell_type": "code",
   "execution_count": null,
   "metadata": {},
   "outputs": [],
   "source": [
    "###BUCLES###"
   ]
  },
  {
   "cell_type": "code",
   "execution_count": 3,
   "metadata": {},
   "outputs": [
    {
     "name": "stdout",
     "output_type": "stream",
     "text": [
      "2\n",
      "3\n",
      "4\n",
      "5\n",
      "6\n"
     ]
    }
   ],
   "source": [
    "#FOR\n",
    "\n",
    "numeros=[1,2,3,4,5]\n",
    "for num in numeros:\n",
    "    suma=num+1\n",
    "    print(suma)\n"
   ]
  },
  {
   "cell_type": "code",
   "execution_count": 5,
   "metadata": {},
   "outputs": [
    {
     "name": "stdout",
     "output_type": "stream",
     "text": [
      "2\n",
      "3\n",
      "4\n",
      "5\n",
      "6\n"
     ]
    }
   ],
   "source": [
    "#usando rango de numeros (el último valor no se va tomar)\n",
    "for i in range(1,6): #va iterar de 1 hasta el 5\n",
    "    suma=i+1\n",
    "    print(suma)"
   ]
  },
  {
   "cell_type": "code",
   "execution_count": 6,
   "metadata": {},
   "outputs": [
    {
     "name": "stdout",
     "output_type": "stream",
     "text": [
      "variable de iteración:  1 Resultado= 2\n",
      "variable de iteración:  2 Resultado= 3\n",
      "variable de iteración:  3 Resultado= 4\n",
      "variable de iteración:  4 Resultado= 5\n",
      "variable de iteración:  5 Resultado= 6\n"
     ]
    }
   ],
   "source": [
    "#ver con que variable de iteracion se esta trabajando\n",
    "for i in range(1,6):\n",
    "    suma=i+1\n",
    "    print(\"variable de iteración: \",i,\"Resultado=\", suma)"
   ]
  },
  {
   "cell_type": "code",
   "execution_count": 7,
   "metadata": {},
   "outputs": [
    {
     "name": "stdout",
     "output_type": "stream",
     "text": [
      "num 1\n",
      "num 2\n",
      "num 3\n",
      "num 4\n",
      "num 5\n"
     ]
    }
   ],
   "source": [
    "#WHILE\n",
    "\n",
    "num=1\n",
    "while num<6:\n",
    "    print(\"num\",num)\n",
    "    num=num+1"
   ]
  },
  {
   "cell_type": "code",
   "execution_count": null,
   "metadata": {},
   "outputs": [],
   "source": [
    "#bucle infinito --> (Control + C) ó botón interrup"
   ]
  },
  {
   "cell_type": "code",
   "execution_count": 8,
   "metadata": {},
   "outputs": [
    {
     "name": "stdout",
     "output_type": "stream",
     "text": [
      "0\n"
     ]
    }
   ],
   "source": [
    "#BREAK\n",
    "\n",
    "for i in range(5):\n",
    "    print(i)\n",
    "    break\n"
   ]
  },
  {
   "cell_type": "code",
   "execution_count": 9,
   "metadata": {},
   "outputs": [
    {
     "name": "stdout",
     "output_type": "stream",
     "text": [
      "P\n",
      "y\n",
      "t\n",
      "Se encontró la h\n"
     ]
    }
   ],
   "source": [
    "cadena = 'Python'\n",
    "for letra in cadena:\n",
    "    if letra == 'h':\n",
    "        print(\"Se encontró la h\")\n",
    "        break\n",
    "    print(letra)"
   ]
  },
  {
   "cell_type": "code",
   "execution_count": 11,
   "metadata": {},
   "outputs": [
    {
     "name": "stdout",
     "output_type": "stream",
     "text": [
      "4\n",
      "3\n",
      "Fin del bucle\n"
     ]
    }
   ],
   "source": [
    "x = 5\n",
    "while True:\n",
    "    x -= 1\n",
    "    print(x)\n",
    "    if x == 3:\n",
    "        break\n",
    "print(\"Fin del bucle\")"
   ]
  },
  {
   "cell_type": "code",
   "execution_count": 12,
   "metadata": {},
   "outputs": [
    {
     "name": "stdout",
     "output_type": "stream",
     "text": [
      "y\n",
      "t\n",
      "h\n",
      "o\n",
      "n\n"
     ]
    }
   ],
   "source": [
    "#CONTINUE\n",
    "\n",
    "cadena = 'Python'\n",
    "for letra in cadena:\n",
    "    if letra == 'P':\n",
    "        continue #se ejecuta, salta la proxima instruccion y continua con el bucle\n",
    "    print(letra)"
   ]
  }
 ],
 "metadata": {
  "kernelspec": {
   "display_name": "base",
   "language": "python",
   "name": "python3"
  },
  "language_info": {
   "codemirror_mode": {
    "name": "ipython",
    "version": 3
   },
   "file_extension": ".py",
   "mimetype": "text/x-python",
   "name": "python",
   "nbconvert_exporter": "python",
   "pygments_lexer": "ipython3",
   "version": "3.10.9"
  },
  "orig_nbformat": 4
 },
 "nbformat": 4,
 "nbformat_minor": 2
}
