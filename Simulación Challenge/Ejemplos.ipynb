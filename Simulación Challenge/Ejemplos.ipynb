{
 "cells": [
  {
   "cell_type": "code",
   "execution_count": null,
   "metadata": {},
   "outputs": [],
   "source": [
    "# Importante: No modificar ni el nombre ni los argumetos que reciben las funciones, sólo deben escribir\n",
    "# código dentro de las funciones ya definidas."
   ]
  },
  {
   "cell_type": "code",
   "execution_count": 210,
   "metadata": {},
   "outputs": [],
   "source": [
    "def ordenarDiccionario(diccionario_par, clave, descendente=True):\n",
    "    '''\n",
    "    Esta función recibe como parámetro un diccionario, cuyas listas de valores tienen el mismo\n",
    "    tamaño y sus elementos enésimos están asociados. Y otros dos parámetros que indican\n",
    "    la clave por la cual debe ordenarse y si es descendente o ascendente.\n",
    "    La función debe devolver el diccionario ordenado, teniendo en cuenta de no perder la\n",
    "    relación entre los elementos enésimos.\n",
    "    Recibe tres argumentos:\n",
    "        diccionario:    Diccionario a ordenar.\n",
    "        clave:          Clave del diccionario recibido, por la cual ordenar.\n",
    "        descendente:    Un valor booleano, que al ser verdadero indica ordenamiento ascendente y \n",
    "                        descendente si es falso. \n",
    "                        Debe tratarse de un parámetro por defecto en True.\n",
    "    Si el parámetro diccionario no es un tipo de dato diccionario ó el parámetro clave no \n",
    "    se encuentra dentro de las claves del diccionario, debe devolver nulo.\n",
    "    Ej:\n",
    "        dicc = {'clave1':['c','a','b'],\n",
    "                'clave2':['casa','auto','barco'],\n",
    "                'clave3':[1,2,3]}\n",
    "        OrdenarDiccionario(dicc, 'clave1')          debe retornar {'clave1':['a','b','c'],\n",
    "                                                                'clave2':['auto','barco','casa'],\n",
    "                                                                'clave3':[2,3,1]}\n",
    "        OrdenarDiccionario(dicc, 'clave3', False)   debe retornar {'clave1':['b','a','c'],\n",
    "                                                                'clave2':['barco','auto','casa'],\n",
    "                                                                'clave3':[3,2,1]}\n",
    "    '''\n",
    "    #Tu código aca:\n",
    "\n",
    "    #Valida: Si el parámetro diccionario no es un tipo de dato diccionario, debe devolver nulo.\n",
    "    if type(diccionario_par) != dict:\n",
    "        #print('No es diccionario')\n",
    "        return None\n",
    "    \n",
    "    #Valida: Si el parámetro clave no se encuentra dentro de las claves del diccionario, debe devolver nulo.\n",
    "    llave = diccionario_par.keys()\n",
    "    if clave not in llave:\n",
    "        #print('Clave no existe')\n",
    "        return None\n",
    "    \n",
    "######################################\n",
    "#creo diccionario con llaves/valores usando el argumento clave \n",
    "    Dic2={llave:valor for (llave,valor) in diccionario_par.items() if llave == clave}\n",
    "    print(Dic2)\n",
    "#Obtengo los valores del Dic2 a través de la clave argumento\n",
    "    mi_dic=diccionario_par[clave]\n",
    "#Uso el enumerate() función para obtener índices y elementos de mi_dic.\n",
    "    mi_lis=list(enumerate(mi_dic))\n",
    "    print(mi_lis)\n",
    "    #for index,elem in enumerate(mi_dic):\n",
    "    #    print(f\"{index}:{elem}\")\n",
    "######################################\n",
    "\n",
    "    return diccionario_par, clave, descendente\n",
    "    #return 'Funcion incompleta'"
   ]
  },
  {
   "cell_type": "markdown",
   "metadata": {},
   "source": [
    "#ordenaremos de mayor a menor\n",
    "lista=[1,4,3,6,8,2]\n",
    "lista.sort(reverse=True)\n",
    "print(lista)\n",
    "\n",
    "#para acceder a un valor específico usando la clave correspondiente\n",
    "print(segundo_diccionario['cuatro'])\n",
    "\n",
    "#para imprimir las claves del diccionario\n",
    "print(mi_diccionario5.keys())\n",
    "\n",
    "#para imprimir los valores del diccionario\n",
    "print(mi_diccionario5.values())\n",
    "\n",
    "#imprimir los valores del diccionario a través de su clave\n",
    "print(mi_diccionario5['clave2'])\n",
    "\n",
    "Dic2={clave:valor for (clave,valor) in Dict.items() if valor == max(Dict.values())}"
   ]
  },
  {
   "cell_type": "code",
   "execution_count": 211,
   "metadata": {},
   "outputs": [
    {
     "name": "stdout",
     "output_type": "stream",
     "text": [
      "{'clave2': ['casa', 'auto', 'barco']}\n",
      "[(0, 'casa'), (1, 'auto'), (2, 'barco')]\n"
     ]
    },
    {
     "data": {
      "text/plain": [
       "({'clave1': ['c', 'a', 'b'],\n",
       "  'clave2': ['casa', 'auto', 'barco'],\n",
       "  'clave3': [1, 2, 3]},\n",
       " 'clave2',\n",
       " True)"
      ]
     },
     "execution_count": 211,
     "metadata": {},
     "output_type": "execute_result"
    }
   ],
   "source": [
    "#Parámetros de entrada\n",
    "\n",
    "#Diccionario a ordenar.\n",
    "dicc = {'clave1':['c','a','b'],\n",
    "        'clave2':['casa','auto','barco'],\n",
    "        'clave3':[1,2,3]}\n",
    "#dicc=[1,2,3] #No es diccionario\n",
    "\n",
    "#Clave del diccionario recibido, por la cual ordenar.\n",
    "key = 'clave2'\n",
    "#key = 'clave8' #clave no existe en el diccionario\n",
    "\n",
    "#Un valor booleano, que al ser verdadero indica ordenamiento ascendente y descendente si es falso. \n",
    "# debe tratarse de un parámetro por defecto en True.\n",
    "orden = True\n",
    "\n",
    "    \n",
    "ordenarDiccionario(dicc, key, orden)"
   ]
  }
 ],
 "metadata": {
  "kernelspec": {
   "display_name": "base",
   "language": "python",
   "name": "python3"
  },
  "language_info": {
   "codemirror_mode": {
    "name": "ipython",
    "version": 3
   },
   "file_extension": ".py",
   "mimetype": "text/x-python",
   "name": "python",
   "nbconvert_exporter": "python",
   "pygments_lexer": "ipython3",
   "version": "3.10.9"
  },
  "orig_nbformat": 4
 },
 "nbformat": 4,
 "nbformat_minor": 2
}
