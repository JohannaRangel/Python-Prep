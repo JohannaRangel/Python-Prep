{
 "cells": [
  {
   "cell_type": "code",
   "execution_count": null,
   "metadata": {},
   "outputs": [],
   "source": [
    "# Importante: No modificar ni el nombre ni los argumetos que reciben las funciones, sólo deben escribir\n",
    "# código dentro de las funciones ya definidas."
   ]
  },
  {
   "cell_type": "code",
   "execution_count": 259,
   "metadata": {},
   "outputs": [],
   "source": [
    "def ordenarDiccionario(diccionario_par, clave, descendente=True):\n",
    "    '''\n",
    "    Esta función recibe como parámetro un diccionario, cuyas listas de valores tienen el mismo\n",
    "    tamaño y sus elementos enésimos están asociados. Y otros dos parámetros que indican\n",
    "    la clave por la cual debe ordenarse y si es descendente o ascendente.\n",
    "    La función debe devolver el diccionario ordenado, teniendo en cuenta de no perder la\n",
    "    relación entre los elementos enésimos.\n",
    "    Recibe tres argumentos:\n",
    "        diccionario:    Diccionario a ordenar.\n",
    "        clave:          Clave del diccionario recibido, por la cual ordenar.\n",
    "        descendente:    Un valor booleano, que al ser verdadero indica ordenamiento ascendente y \n",
    "                        descendente si es falso. \n",
    "                        Debe tratarse de un parámetro por defecto en True.\n",
    "    Si el parámetro diccionario no es un tipo de dato diccionario ó el parámetro clave no \n",
    "    se encuentra dentro de las claves del diccionario, debe devolver nulo.\n",
    "    Ej:\n",
    "        dicc = {'clave1':['c','a','b'],\n",
    "                'clave2':['casa','auto','barco'],\n",
    "                'clave3':[1,2,3]}\n",
    "        OrdenarDiccionario(dicc, 'clave1')          debe retornar {'clave1':['a','b','c'],\n",
    "                                                                'clave2':['auto','barco','casa'],\n",
    "                                                                'clave3':[2,3,1]}\n",
    "        OrdenarDiccionario(dicc, 'clave3', False)   debe retornar {'clave1':['b','a','c'],\n",
    "                                                                'clave2':['barco','auto','casa'],\n",
    "                                                                'clave3':[3,2,1]}\n",
    "    '''\n",
    "    #Tu código aca:\n",
    "\n",
    "    #Valida: Si el parámetro diccionario no es un tipo de dato diccionario, debe devolver nulo.\n",
    "    if type(diccionario_par) != dict:\n",
    "        #print('No es diccionario')\n",
    "        return None\n",
    "    \n",
    "    #Valida: Si el parámetro clave no se encuentra dentro de las claves del diccionario, debe devolver nulo.\n",
    "    llave = diccionario_par.keys()\n",
    "    if clave not in llave:\n",
    "        #print('Clave no existe')\n",
    "        return None\n",
    "    \n",
    "    #Obtengo con la función enumerate() los índices \"i\" y elementos \"e\" del diccionario \"parametro: diccionario_par\" a través de su key \"parametro: clave\"\n",
    "    ei = [(e, i) for i, e in enumerate(diccionario_par[clave])] \n",
    "    #Ordeno\n",
    "    sorted_ei = sorted(ei, reverse= not descendente)\n",
    "    #Se crea nuevo diccionario\n",
    "    new_dicc = {}\n",
    "    for i,e in diccionario_par.items():\n",
    "        new_dicc[i] = [e[idx] for _, idx in sorted_ei]\n",
    "    return new_dicc\n"
   ]
  },
  {
   "cell_type": "code",
   "execution_count": 260,
   "metadata": {},
   "outputs": [
    {
     "name": "stdout",
     "output_type": "stream",
     "text": [
      "[(1, 0), (2, 1), (3, 2)]\n"
     ]
    },
    {
     "data": {
      "text/plain": [
       "{'clave1': ['b', 'a', 'c'],\n",
       " 'clave2': ['barco', 'auto', 'casa'],\n",
       " 'clave3': [3, 2, 1]}"
      ]
     },
     "execution_count": 260,
     "metadata": {},
     "output_type": "execute_result"
    }
   ],
   "source": [
    "        #Parámetros de entrada\n",
    "\n",
    "        #Diccionario a ordenar.\n",
    "dicc = {'clave1':['c','a','b'],\n",
    "        'clave2':['casa','auto','barco'],\n",
    "        'clave3':[1,2,3]}\n",
    "#dicc=[1,2,3] #No es diccionario\n",
    "\n",
    "        #Clave del diccionario recibido, por la cual ordenar.\n",
    "#key = 'clave2'\n",
    "#key = 'clave8' #clave no existe en el diccionario\n",
    "\n",
    "        #Un valor booleano, que al ser verdadero indica ordenamiento ascendente y descendente si es falso. \n",
    "        # debe tratarse de un parámetro por defecto en True.\n",
    "#orden = False\n",
    "\n",
    "        #Ejecuta función\n",
    "#ordenarDiccionario(dicc, 'clave1')    \n",
    "ordenarDiccionario(dicc, 'clave3', False)"
   ]
  }
 ],
 "metadata": {
  "kernelspec": {
   "display_name": "base",
   "language": "python",
   "name": "python3"
  },
  "language_info": {
   "codemirror_mode": {
    "name": "ipython",
    "version": 3
   },
   "file_extension": ".py",
   "mimetype": "text/x-python",
   "name": "python",
   "nbconvert_exporter": "python",
   "pygments_lexer": "ipython3",
   "version": "3.10.9"
  },
  "orig_nbformat": 4
 },
 "nbformat": 4,
 "nbformat_minor": 2
}
