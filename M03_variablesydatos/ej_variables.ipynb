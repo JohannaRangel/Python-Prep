{
 "cells": [
  {
   "cell_type": "code",
   "execution_count": 6,
   "metadata": {},
   "outputs": [],
   "source": [
    "x=5 #entero"
   ]
  },
  {
   "cell_type": "code",
   "execution_count": 7,
   "metadata": {},
   "outputs": [],
   "source": [
    "numero=9.3 #float   "
   ]
  },
  {
   "cell_type": "code",
   "execution_count": 20,
   "metadata": {},
   "outputs": [],
   "source": [
    "ciudad='Caracas' #character con comillas simples o dobles es valido"
   ]
  },
  {
   "cell_type": "code",
   "execution_count": 13,
   "metadata": {},
   "outputs": [
    {
     "name": "stdout",
     "output_type": "stream",
     "text": [
      "5\n"
     ]
    }
   ],
   "source": [
    "#Print: Función que recupera el dato de una variable guardada. \n",
    "print(x)"
   ]
  },
  {
   "cell_type": "code",
   "execution_count": 18,
   "metadata": {},
   "outputs": [],
   "source": [
    "pais='Venezuela'"
   ]
  },
  {
   "cell_type": "code",
   "execution_count": 19,
   "metadata": {},
   "outputs": [
    {
     "data": {
      "text/plain": [
       "'Venezuela'"
      ]
     },
     "execution_count": 19,
     "metadata": {},
     "output_type": "execute_result"
    }
   ],
   "source": [
    "#el valor de la variable también se puede ver directamente ejecutandola con el nombren\n",
    "#en éste caso el nombre de la variable es pais y nos muestra el valor sin la función print \n",
    "pais"
   ]
  },
  {
   "cell_type": "code",
   "execution_count": 21,
   "metadata": {},
   "outputs": [
    {
     "data": {
      "text/plain": [
       "'Caracas'"
      ]
     },
     "execution_count": 21,
     "metadata": {},
     "output_type": "execute_result"
    }
   ],
   "source": [
    "#si aplicamos lo anterior para dos variables sólo mostrara el valor de la última\n",
    "pais\n",
    "ciudad"
   ]
  },
  {
   "cell_type": "code",
   "execution_count": 22,
   "metadata": {},
   "outputs": [
    {
     "name": "stdout",
     "output_type": "stream",
     "text": [
      "Venezuela\n",
      "Caracas\n"
     ]
    }
   ],
   "source": [
    "#para ver el valor de mas de una variable si es necesario usar el print\n",
    "print(pais)\n",
    "print(ciudad)"
   ]
  },
  {
   "cell_type": "code",
   "execution_count": 23,
   "metadata": {},
   "outputs": [
    {
     "data": {
      "text/plain": [
       "int"
      ]
     },
     "execution_count": 23,
     "metadata": {},
     "output_type": "execute_result"
    }
   ],
   "source": [
    "#Type: Función que recupera el tipo de datos que se guarda en la variable.\n",
    "type(x)"
   ]
  },
  {
   "cell_type": "code",
   "execution_count": 25,
   "metadata": {},
   "outputs": [
    {
     "data": {
      "text/plain": [
       "float"
      ]
     },
     "execution_count": 25,
     "metadata": {},
     "output_type": "execute_result"
    }
   ],
   "source": [
    "#Si hacemos esto, sólo veremos el tipo de datos de la última variable ejecutada\n",
    "type(ciudad)\n",
    "type(numero)"
   ]
  },
  {
   "cell_type": "code",
   "execution_count": 26,
   "metadata": {},
   "outputs": [
    {
     "name": "stdout",
     "output_type": "stream",
     "text": [
      "<class 'str'>\n",
      "<class 'float'>\n"
     ]
    }
   ],
   "source": [
    "#ver el tipo de datos de 2+ variables,debe adicionar en la instrucción la función print\n",
    "print(type(ciudad))\n",
    "print(type(numero))"
   ]
  },
  {
   "cell_type": "code",
   "execution_count": 27,
   "metadata": {},
   "outputs": [
    {
     "data": {
      "text/plain": [
       "True"
      ]
     },
     "execution_count": 27,
     "metadata": {},
     "output_type": "execute_result"
    }
   ],
   "source": [
    "#Bool: Función para indica si el valor de una variable es true(tiene valor almacenado) ó \n",
    "# false(si está nula o vacía)\n",
    "bool(x)"
   ]
  },
  {
   "cell_type": "code",
   "execution_count": 28,
   "metadata": {},
   "outputs": [],
   "source": [
    "num=0 #cero es false"
   ]
  },
  {
   "cell_type": "code",
   "execution_count": 29,
   "metadata": {},
   "outputs": [
    {
     "data": {
      "text/plain": [
       "False"
      ]
     },
     "execution_count": 29,
     "metadata": {},
     "output_type": "execute_result"
    }
   ],
   "source": [
    "bool(num)"
   ]
  },
  {
   "cell_type": "code",
   "execution_count": 30,
   "metadata": {},
   "outputs": [
    {
     "data": {
      "text/plain": [
       "False"
      ]
     },
     "execution_count": 30,
     "metadata": {},
     "output_type": "execute_result"
    }
   ],
   "source": [
    "bool(0) #cero es false"
   ]
  },
  {
   "cell_type": "code",
   "execution_count": 31,
   "metadata": {},
   "outputs": [
    {
     "data": {
      "text/plain": [
       "False"
      ]
     },
     "execution_count": 31,
     "metadata": {},
     "output_type": "execute_result"
    }
   ],
   "source": [
    "bool(\"\") #string vacío es false"
   ]
  },
  {
   "cell_type": "code",
   "execution_count": 32,
   "metadata": {},
   "outputs": [
    {
     "data": {
      "text/plain": [
       "False"
      ]
     },
     "execution_count": 32,
     "metadata": {},
     "output_type": "execute_result"
    }
   ],
   "source": [
    "bool(None) #None es false"
   ]
  },
  {
   "cell_type": "code",
   "execution_count": 33,
   "metadata": {},
   "outputs": [
    {
     "data": {
      "text/plain": [
       "True"
      ]
     },
     "execution_count": 33,
     "metadata": {},
     "output_type": "execute_result"
    }
   ],
   "source": [
    "bool(22) #entero es true"
   ]
  },
  {
   "cell_type": "code",
   "execution_count": 34,
   "metadata": {},
   "outputs": [
    {
     "data": {
      "text/plain": [
       "True"
      ]
     },
     "execution_count": 34,
     "metadata": {},
     "output_type": "execute_result"
    }
   ],
   "source": [
    "bool(3.5) #float es true    "
   ]
  },
  {
   "cell_type": "code",
   "execution_count": 35,
   "metadata": {},
   "outputs": [
    {
     "data": {
      "text/plain": [
       "True"
      ]
     },
     "execution_count": 35,
     "metadata": {},
     "output_type": "execute_result"
    }
   ],
   "source": [
    "bool('Henry') #string es true"
   ]
  },
  {
   "cell_type": "markdown",
   "metadata": {},
   "source": [
    "# Definimos una variable x con una cadena\n",
    "x = \"El valor de (a+b)*c es\"\n",
    "\n",
    "# Podemos realizar múltiples asignaciones\n",
    "a, b, c = 4, 3, 2\n",
    "#asignar el mismo valor a diferentes variables\n",
    "x = y = z = 10\n",
    "#también podemos asignar varios valores separados por coma.\n",
    "x, y = 4, 2\n",
    "x, y, z = 1, 2, 3\n",
    "\n",
    "# Realizamos unas operaciones con a,b,c\n",
    "d = (a + b) * c\n",
    "\n",
    "# Definimos una variable booleana\n",
    "imprimir = True\n",
    "\n",
    "# Si imprimir, print()\n",
    "if imprimir:\n",
    "    print(x, d)\n",
    "\n",
    "# Salida: El valor de (a+b)*c es 14\n",
    "\n",
    "# Alcance o scope que tiene una varible\n",
    "#En el siguiente ejemplo la variable con valor 10 tiene un alcance global y \n",
    "#la que tiene el valor 5 dentro de la función, tiene un alcance local. \n",
    "#Esto significa que cuando hacemos print(x), estamos accediendo a la variable global x y no a la x definida dentro de la función.\n",
    "\n",
    "x = 10\n",
    "\n",
    "def funcion():\n",
    "    x = 5\n",
    "\n",
    "funcion()\n",
    "print(x)\n",
    "\n",
    "\n",
    "# En Python no es necesario 'punto y coma' al final de cada instrucción basta con un salto de línea.\n",
    "x = 5\n",
    "y = 10\n",
    "#Pero se puede usar el punto y coma ; para tener dos sentencias en la misma línea.\n",
    "x = 5; y = 10\n",
    "\n",
    "\n",
    "# Múltiples líneas: en la especificación PEP8 se recomienda que las líneas no excedan los 79 caracteres.\n",
    "#Haciendo uso de \\ se puede romper el código en varias líneas\n",
    "x = 1 + 2 + 3 + 4 +\\    \n",
    "    5 + 6 + 7 + 8\n",
    "\n",
    "#Si por lo contrario estamos dentro de un bloque rodeado con paréntesis (), bastaría con saltar a la siguiente línea.\n",
    "x = (1 + 2 + 3 + 4 +\n",
    "     5 + 6 + 7 + 8)\n",
    "\n",
    "#Se puede hacer lo mismo para llamadas a funciones\n",
    "def funcion(a, b, c):\n",
    "    return a+b+c\n",
    "\n",
    "d = funcion(10,\n",
    "23,\n",
    "3)\n",
    "\n",
    "# Palabras reservadad\n",
    "import keyword\n",
    "print(keyword.kwlist)\n",
    "\n",
    "# Uso de paréntesis: \n",
    "x = 10\n",
    "y = x*3-3**10-2+3\n",
    "#El comportamiento del código anterior y el siguiente es distinto, ya que el uso de paréntesis () da prioridad a unas operaciones sobre otras.\n",
    "x = 10\n",
    "y = (x*3-3)**(10-2)+3\n"
   ]
  }
 ],
 "metadata": {
  "kernelspec": {
   "display_name": "base",
   "language": "python",
   "name": "python3"
  },
  "language_info": {
   "codemirror_mode": {
    "name": "ipython",
    "version": 3
   },
   "file_extension": ".py",
   "mimetype": "text/x-python",
   "name": "python",
   "nbconvert_exporter": "python",
   "pygments_lexer": "ipython3",
   "version": "3.10.9"
  },
  "orig_nbformat": 4
 },
 "nbformat": 4,
 "nbformat_minor": 2
}
