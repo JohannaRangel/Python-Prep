{
 "cells": [
  {
   "attachments": {},
   "cell_type": "markdown",
   "metadata": {},
   "source": [
    "## Funciones"
   ]
  },
  {
   "attachments": {},
   "cell_type": "markdown",
   "metadata": {},
   "source": [
    "1) Crear una función que reciba un número como parámetro y devuelva True si es primo y False si no lo es"
   ]
  },
  {
   "cell_type": "code",
   "execution_count": 235,
   "metadata": {},
   "outputs": [],
   "source": [
    "#Número primo: \n",
    "#Es un número entero con exactamente dos divisores integrales, 1 y el número mismo\n",
    "#El cero no es primo porque no se puede dividir entre sí mismo\n",
    "#1 no es un primo, ya que solo tiene un divisor\n",
    "\n",
    "def es_primo(numero):\n",
    "    \"\"\"\n",
    "    Funcion que determina si un número es primo. Recibe número entero mayor a 1\n",
    "    \"\"\"\n",
    "    while True:\n",
    "        try:\n",
    "            if type(numero)!=int:\n",
    "                print(f'{numero} es de tipo {type(numero)} \\nDebe ingresar un número entero')\n",
    "                break\n",
    "                    \n",
    "            if (numero<=1):\n",
    "                print('ojo')\n",
    "                return False\n",
    "            \n",
    "            for n in range(2, numero):\n",
    "                if (numero % n) == 0:\n",
    "                    return False\n",
    "                    break\n",
    "                    \n",
    "        except TypeError:\n",
    "            pass\n",
    "    \n",
    "    #   return True"
   ]
  },
  {
   "cell_type": "code",
   "execution_count": 236,
   "metadata": {},
   "outputs": [
    {
     "ename": "KeyboardInterrupt",
     "evalue": "",
     "output_type": "error",
     "traceback": [
      "\u001b[1;31m---------------------------------------------------------------------------\u001b[0m",
      "\u001b[1;31mKeyboardInterrupt\u001b[0m                         Traceback (most recent call last)",
      "Cell \u001b[1;32mIn[236], line 1\u001b[0m\n\u001b[1;32m----> 1\u001b[0m es_primo(\u001b[39m13\u001b[39;49m)\n",
      "Cell \u001b[1;32mIn[235], line 21\u001b[0m, in \u001b[0;36mes_primo\u001b[1;34m(numero)\u001b[0m\n\u001b[0;32m     18\u001b[0m     \u001b[39mreturn\u001b[39;00m \u001b[39mFalse\u001b[39;00m\n\u001b[0;32m     20\u001b[0m \u001b[39mfor\u001b[39;00m n \u001b[39min\u001b[39;00m \u001b[39mrange\u001b[39m(\u001b[39m2\u001b[39m, numero):\n\u001b[1;32m---> 21\u001b[0m     \u001b[39mif\u001b[39;00m (numero \u001b[39m%\u001b[39m n) \u001b[39m==\u001b[39m \u001b[39m0\u001b[39m:\n\u001b[0;32m     22\u001b[0m         \u001b[39mreturn\u001b[39;00m \u001b[39mFalse\u001b[39;00m\n\u001b[0;32m     23\u001b[0m         \u001b[39mbreak\u001b[39;00m\n",
      "\u001b[1;31mKeyboardInterrupt\u001b[0m: "
     ]
    }
   ],
   "source": [
    "es_primo(13)"
   ]
  },
  {
   "cell_type": "code",
   "execution_count": null,
   "metadata": {},
   "outputs": [],
   "source": [
    "#Usando \n",
    "def es_primo2(num):\n",
    "    resultado = map(int,num)\n",
    "resultado=[num for (num) in Dict.items() if valor == (max_valor)]"
   ]
  },
  {
   "attachments": {},
   "cell_type": "markdown",
   "metadata": {},
   "source": [
    "2) Utilizando la función del punto 1, realizar otra función que reciba de parámetro una lista de números y devuelva sólo aquellos que son primos en otra lista"
   ]
  },
  {
   "cell_type": "code",
   "execution_count": 10,
   "metadata": {},
   "outputs": [],
   "source": [
    "def extrae_primos(i_lista):\n",
    "    lista_primos=[]\n",
    "    for numero in i_lista:\n",
    "        if es_primo(numero) == True:\n",
    "            lista_primos.append(numero)\n",
    "    return lista_primos"
   ]
  },
  {
   "cell_type": "code",
   "execution_count": 11,
   "metadata": {},
   "outputs": [
    {
     "data": {
      "text/plain": [
       "[1, 2, 3, 5, 7, 11, 13, 17, 19]"
      ]
     },
     "execution_count": 11,
     "metadata": {},
     "output_type": "execute_result"
    }
   ],
   "source": [
    "e_lista = [1,2,3,4,5,6,7,8,9,10,11,12,13,14,15,16,17,18,19,20]\n",
    "extrae_primos(e_lista)"
   ]
  },
  {
   "attachments": {},
   "cell_type": "markdown",
   "metadata": {},
   "source": [
    "3) Crear una función que al recibir una lista de números, devuelva el que más se repite y cuántas veces lo hace. Si hay más de un \"más repetido\", que devuelva cualquiera"
   ]
  },
  {
   "cell_type": "code",
   "execution_count": 237,
   "metadata": {},
   "outputs": [],
   "source": [
    "def mas_repetido(i_lista):\n",
    "    ordenados = sorted(i_lista) #ordeno la lista que recibo\n",
    "    Dict = {}                   #declaro diccionario para almacenar todos los números (clave) y veces que se repiten (valor) \n",
    "    repetidos = []              #declaro lista para almacenar todos los número que se repiten\n",
    "                      \n",
    "    #print(ordenados)\n",
    "    for elemento in ordenados:  #recorro la lista ordenada\n",
    "        cuenta=0                #inicializo contador en cero\n",
    "        cuenta = ordenados.count(elemento)  \n",
    "        if cuenta > 1:\n",
    "            Dict[elemento] = cuenta\n",
    "            continue\n",
    "\n",
    "    print(\"Lista original:\")\n",
    "    print(i_lista)\n",
    "    if Dict:    \n",
    "        max_valor = max(Dict.values())\n",
    "        repetidos=[clave for (clave,valor) in Dict.items() if valor == (max_valor)]\n",
    "        print(\"\\nNúmero(s) que se repite(n)\", repetidos)\n",
    "        print(\"Frecuencia con que aparece(n):\",max_valor)\n",
    "    else:\n",
    "        if ordenados:\n",
    "            print(\"\\nEsta lista no contiene elementos repetidos\")\n",
    "        else:\n",
    "            print(\"\\nEsta lista está vacía\")\n",
    " "
   ]
  },
  {
   "cell_type": "code",
   "execution_count": 241,
   "metadata": {},
   "outputs": [
    {
     "name": "stdout",
     "output_type": "stream",
     "text": [
      "Lista original:\n",
      "[2, 3, 1, 4, 1, 2, 4, 2, 4]\n",
      "\n",
      "Número(s) que se repite(n) [2, 4]\n",
      "Frecuencia con que aparece(n): 3\n"
     ]
    }
   ],
   "source": [
    "#numeros = []   #lista vacía\n",
    "#numeros = [1,2,3,4,5] #ningun número se repite\n",
    "#numeros = [1,1,5,6,8,10,22,5,6,4,11,9,5] #solo hay un numero que se repite más\n",
    "numeros = [2,3, 1,4, 1,2,4,2,4] #hay más de un número que se repite la misma cantidad de veces\n",
    "\n",
    "mas_repetido(numeros)"
   ]
  },
  {
   "attachments": {},
   "cell_type": "markdown",
   "metadata": {},
   "source": [
    "4) Crear una función que convierta entre grados Celsius, Farenheit y Kelvin<br>\n",
    "Fórmula 1\t: (°C × 9/5) + 32 = °F<br>\n",
    "Fórmula 2\t: °C + 273.15 = °K<br>\n",
    "Debe recibir 3 parámetros: el valor, la medida de orígen y la medida de destino\n"
   ]
  },
  {
   "cell_type": "code",
   "execution_count": 3,
   "metadata": {},
   "outputs": [],
   "source": [
    "def conversion_grados(valor, origen, destino):\n",
    "    # Función que realiza la conversión de grados entre diferentes unidades\n",
    "    # Parámetros:\n",
    "    # - valor: el valor numérico a convertir\n",
    "    # - origen: la unidad de origen (celsius, farenheit, kelvin)\n",
    "    # - destino: la unidad de destino (celsius, farenheit, kelvin)\n",
    "\n",
    "    if origen == 'celsius':\n",
    "        if destino == 'celsius':\n",
    "            valor_destino = valor  # Si la unidad de origen y destino es la misma, no se realiza ninguna conversión\n",
    "        elif destino == 'farenheit':\n",
    "            valor_destino = (valor * 9 / 5) + 32  # Conversión de Celsius a Farenheit\n",
    "        elif destino == 'kelvin':\n",
    "            valor_destino = valor + 273.15  # Conversión de Celsius a Kelvin\n",
    "        else:\n",
    "            print('Parámetro de Destino incorrecto')  # Mensaje de error si el parámetro de destino no es válido\n",
    "    elif origen == 'farenheit':\n",
    "        if destino == 'celsius':\n",
    "            valor_destino = (valor - 32) * 5 / 9  # Conversión de Farenheit a Celsius\n",
    "        elif destino == 'farenheit':\n",
    "            valor_destino = valor  # Si la unidad de origen y destino es la misma, no se realiza ninguna conversión\n",
    "        elif destino == 'kelvin':\n",
    "            valor_destino = ((valor - 32) * 5 / 9) + 273.15  # Conversión de Farenheit a Kelvin\n",
    "        else:\n",
    "            print('Parámetro de Destino incorrecto')  # Mensaje de error si el parámetro de destino no es válido\n",
    "    elif origen == 'kelvin':\n",
    "        if destino == 'celsius':\n",
    "            valor_destino = valor - 273.15  # Conversión de Kelvin a Celsius\n",
    "        elif destino == 'farenheit':\n",
    "            valor_destino = ((valor - 273.15) * 9 / 5) + 32  # Conversión de Kelvin a Farenheit\n",
    "        elif destino == 'kelvin':\n",
    "            valor_destino = valor  # Si la unidad de origen y destino es la misma, no se realiza ninguna conversión\n",
    "        else:\n",
    "            print('Parámetro de Destino incorrecto')  # Mensaje de error si el parámetro de destino no es válido\n",
    "    else:\n",
    "        print('Parámetro de Origen incorrecto')  # Mensaje de error si el parámetro de origen no es válido\n",
    "    \n",
    "    return valor_destino  # Retorna el valor convertido en la unidad de destino\n"
   ]
  },
  {
   "cell_type": "code",
   "execution_count": 4,
   "metadata": {},
   "outputs": [
    {
     "data": {
      "text/plain": [
       "274.15"
      ]
     },
     "execution_count": 4,
     "metadata": {},
     "output_type": "execute_result"
    }
   ],
   "source": [
    "conversion_grados(1, 'celsius', 'kelvin')"
   ]
  },
  {
   "attachments": {},
   "cell_type": "markdown",
   "metadata": {},
   "source": [
    "5) Iterando una lista con los tres valores posibles de temperatura que recibe la función del punto 5, hacer un print para cada combinación de los mismos:"
   ]
  },
  {
   "cell_type": "code",
   "execution_count": 5,
   "metadata": {},
   "outputs": [
    {
     "name": "stdout",
     "output_type": "stream",
     "text": [
      "1 grado celsius a celsius : 1\n",
      "1 grado celsius a kelvin : 274.15\n",
      "1 grado celsius a farenheit : 33.8\n",
      "1 grado kelvin a celsius : -272.15\n",
      "1 grado kelvin a kelvin : 1\n",
      "1 grado kelvin a farenheit : -457.87\n",
      "1 grado farenheit a celsius : -17.22222222222222\n",
      "1 grado farenheit a kelvin : 255.92777777777775\n",
      "1 grado farenheit a farenheit : 1\n"
     ]
    }
   ],
   "source": [
    "metricas = ['celsius', 'kelvin', 'farenheit']  # Lista de las unidades métricas\n",
    "\n",
    "for i in range(0, 3):  # Bucle exterior que itera sobre los índices de la lista de metricas\n",
    "    for j in range(0, 3):  # Bucle interior que itera sobre los índices de la lista de metricas\n",
    "        # Se imprime la conversión de 1 grado desde la unidad métrica en el índice i a la unidad métrica en el índice j\n",
    "        # utilizando la función de conversión_grados\n",
    "        print('1 grado', metricas[i], 'a', metricas[j], ':', conversion_grados(1, metricas[i], metricas[j]))\n"
   ]
  },
  {
   "attachments": {},
   "cell_type": "markdown",
   "metadata": {},
   "source": [
    "6) Armar una función que devuelva el factorial de un número. Tener en cuenta que el usuario puede equivocarse y enviar de parámetro un número no entero o negativo"
   ]
  },
  {
   "cell_type": "code",
   "execution_count": 6,
   "metadata": {},
   "outputs": [],
   "source": [
    "def factorial(numero):\n",
    "    # Verifica si el número no es entero y devuelve un mensaje de error\n",
    "    if type(numero) != int:\n",
    "        return 'El número debe ser un entero'\n",
    "    \n",
    "    # Verifica si el número es negativo y devuelve un mensaje de error\n",
    "    if numero < 0:\n",
    "        return 'El número debe ser positivo'\n",
    "    \n",
    "    # Caso base: si el número es 0 o 1, el factorial es 1\n",
    "    if numero <= 1:\n",
    "        return 1\n",
    "    \n",
    "    # Recursión: calcula el factorial del número multiplicándolo por el factorial del número anterior\n",
    "    numero = numero * factorial(numero - 1)\n",
    "    \n",
    "    return numero\n"
   ]
  },
  {
   "cell_type": "code",
   "execution_count": 7,
   "metadata": {},
   "outputs": [
    {
     "data": {
      "text/plain": [
       "24"
      ]
     },
     "execution_count": 7,
     "metadata": {},
     "output_type": "execute_result"
    }
   ],
   "source": [
    "factorial(4)"
   ]
  }
 ],
 "metadata": {
  "interpreter": {
   "hash": "c85384e4cb51c8b72350f3a8712cc8351fdc3955e32a27f9b60c6242ab125f01"
  },
  "kernelspec": {
   "display_name": "Python 3 (ipykernel)",
   "language": "python",
   "name": "python3"
  },
  "language_info": {
   "codemirror_mode": {
    "name": "ipython",
    "version": 3
   },
   "file_extension": ".py",
   "mimetype": "text/x-python",
   "name": "python",
   "nbconvert_exporter": "python",
   "pygments_lexer": "ipython3",
   "version": "3.10.9"
  }
 },
 "nbformat": 4,
 "nbformat_minor": 4
}
